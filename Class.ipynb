{
 "cells": [
  {
   "cell_type": "markdown",
   "metadata": {
    "slideshow": {
     "slide_type": "slide"
    }
   },
   "source": [
    "# Python for Machine Learning\n",
    "\n",
    "1. Content\n",
    "2. Review of ML\n",
    "    - Supervised learning\n",
    "    - Unsuperivised learning\n",
    "3. Python Environment for ML\n",
    "    - Libraries and modules for ML\n",
    "4. ML in scikit-learn\n",
    "    - Introduction to sklearn\n",
    "    - Basic ML: linear regression, logistic regression, k-means\n",
    "    - Moderate ML: classification trees, neural networks\n",
    "5. Learning more "
   ]
  },
  {
   "cell_type": "markdown",
   "metadata": {
    "slideshow": {
     "slide_type": "slide"
    }
   },
   "source": [
    "# Review of ML\n",
    "\n",
    "*What is ML?*\n",
    "\n",
    "- Making sense of data\n",
    "- Performing induction on data\n",
    "\n",
    "In ML we are given **data**, and we want to learn **something** from the data.\n",
    "\n",
    "ML answers the question **how** to learn; the question **what** to learn is up to YOU."
   ]
  },
  {
   "cell_type": "markdown",
   "metadata": {
    "slideshow": {
     "slide_type": "slide"
    }
   },
   "source": [
    "## Types of ML\n",
    "\n",
    "*What types of ML are there?*\n",
    "\n",
    "We can formalize different learning tasks\n",
    "\n",
    "- Supervised learning\n",
    "- Unsupervised learning\n",
    "- Reinforcement learning\n",
    "- Semi-supervised learning\n",
    "- Transfer learning\n",
    "- ...\n",
    "\n",
    "Problems vary according to the the type of **data** you are given and the type of **knowledge** you want to get."
   ]
  },
  {
   "cell_type": "markdown",
   "metadata": {
    "slideshow": {
     "slide_type": "slide"
    }
   },
   "source": [
    "## Supervised learning"
   ]
  },
  {
   "cell_type": "markdown",
   "metadata": {
    "slideshow": {
     "slide_type": "slide"
    }
   },
   "source": [
    "## Unsupervised learning"
   ]
  },
  {
   "cell_type": "markdown",
   "metadata": {
    "slideshow": {
     "slide_type": "slide"
    }
   },
   "source": [
    "## Problem of generalization"
   ]
  },
  {
   "cell_type": "markdown",
   "metadata": {
    "slideshow": {
     "slide_type": "slide"
    }
   },
   "source": [
    "## Fitting and testing"
   ]
  },
  {
   "cell_type": "markdown",
   "metadata": {
    "slideshow": {
     "slide_type": "slide"
    }
   },
   "source": [
    "# 2. Python Environment for ML\n",
    "\n",
    "Python provides a flexible and customizable environment to set up your machine learning setup.\n",
    "\n",
    "![](python_env.png)\n",
    "\n",
    "Use **environment manager** systems to control you environment (e.g.: **conda**)\n",
    "- Install packages for you\n",
    "- Verify consistency between packages\n",
    "- Allows rollback"
   ]
  },
  {
   "cell_type": "markdown",
   "metadata": {
    "slideshow": {
     "slide_type": "slide"
    }
   },
   "source": [
    "## What we consider\n",
    "\n",
    "<img src=\"python_env.png\">\n",
    "\n",
    "- **numpy**: library supporting matrices and tensors\n",
    "- **matplotlib**: library for plotting\n",
    "- **scikit-learn**: library for machine learning"
   ]
  },
  {
   "cell_type": "markdown",
   "metadata": {
    "slideshow": {
     "slide_type": "slide"
    }
   },
   "source": [
    "## What we do not consider\n",
    "\n",
    "![](python_env.png)\n",
    "\n",
    "- **scipy**: library providing scientific modules for dealing with signal processing, statistics, engineering...\n",
    "- **joblib**: library for pipelining\n",
    "- **pandas**: library for managing and querying data frames\n",
    "- **networkx**: library for working with graphs\n",
    "- **tensorflow** and **pytorch**: library for running neural networks\n",
    "- **jupyter**: interactive interface to the python environment (what we are running now)"
   ]
  },
  {
   "cell_type": "markdown",
   "metadata": {
    "slideshow": {
     "slide_type": "slide"
    }
   },
   "source": [
    "# ML in scikit-learn\n",
    "\n",
    "*scikit-learn* is a popular python package providing a wide selection of algorithms.\n",
    "\n",
    "We are going to see how to carry out machine learning tasks relying on *scikit-learn*.\n",
    "\n",
    "*scikit-learn* contains many more functionalities than the few ones we are going to consider here. Refer to the [documentation](https://scikit-learn.org/stable/) to learn more!"
   ]
  },
  {
   "cell_type": "markdown",
   "metadata": {
    "slideshow": {
     "slide_type": "slide"
    }
   },
   "source": [
    "## ML pipeline\n",
    "\n",
    "A simplified ML pipeline contains at least the following steps:\n",
    "\n",
    "![](ML_pipeline.png)\n",
    "\n",
    "- *Data loading*: we start by gathering the data we want to analyze\n",
    "- *Data pre-processing*: we fix and/or improve the data quality\n",
    "- *Model fittin*: we apply a machine learning model\n",
    "- *Evaluation*: we measure how well the model performs\n",
    "\n",
    "If we are happy with the evaluation we can then deploy our model; otherwise, we go back."
   ]
  },
  {
   "cell_type": "markdown",
   "metadata": {
    "slideshow": {
     "slide_type": "slide"
    }
   },
   "source": [
    "## Data as matrices/tensors\n",
    "\n",
    "Data is essentially represented as a *table*\n",
    "\n",
    "  .   | Age | Pressure | Heartrate | ... | BMI \n",
    "------|------------|------------|------------|-----|------------\n",
    "Hippocrates | 36 | 120 | 69 | ... | 20\n",
    "Imhotep | 72 | 112 | 81 | ... | 21\n",
    "Charaka | 51 | 85 | 87 | ... | 20\n",
    "... | ... | .... | .... | ... | ...\n",
    "Ibn-Sina | 18 | 131 | 62 | ... | 22\n",
    "\n",
    "\n",
    "- each row is a **sample**, *observation*, *case*, or *individual*.\n",
    "- each column is a **feature**, or *attribute*.\n",
    "\n",
    "This interpretation of rows and columns is pretty standard, but remember to always check!"
   ]
  },
  {
   "cell_type": "markdown",
   "metadata": {
    "slideshow": {
     "slide_type": "slide"
    }
   },
   "source": [
    "We use **numpy** a data table in a **matrix**, or *2D array* or *2D tensor*."
   ]
  },
  {
   "cell_type": "code",
   "execution_count": 1,
   "metadata": {},
   "outputs": [
    {
     "name": "stdout",
     "output_type": "stream",
     "text": [
      "[[ 36 120  69  20]\n",
      " [ 72 112  81  21]\n",
      " [ 51  85  87  20]\n",
      " [ 18 131  62  22]]\n"
     ]
    }
   ],
   "source": [
    "import numpy as np\n",
    "\n",
    "D = np.array([[36,120,69,20],\n",
    "             [72,112,81,21],\n",
    "             [51,85,87,20],\n",
    "             [18,131,62,22]])\n",
    "\n",
    "print(D)"
   ]
  },
  {
   "cell_type": "markdown",
   "metadata": {},
   "source": [
    "Notice we discarded the name of columns and row.\n",
    "\n",
    "Working with all the numbers in a single matrix allows to make computation very efficient!"
   ]
  },
  {
   "cell_type": "markdown",
   "metadata": {
    "slideshow": {
     "slide_type": "slide"
    }
   },
   "source": [
    "## Data loading/generation\n",
    "\n",
    "ML starts with **data**. You can:\n",
    "- Collect your own data (complex, costly)\n",
    "- Load available data (easy with public dataset)\n",
    "- Generate your own data (useful for testing ideas)\n",
    "- Aggregate sources (complex)\n",
    "\n",
    "A **data set** is a homogeneous collection of data.\n"
   ]
  },
  {
   "cell_type": "markdown",
   "metadata": {
    "slideshow": {
     "slide_type": "slide"
    }
   },
   "source": [
    "*sklearn* comes with datasets included!\n",
    "\n",
    "Datasets are made available in *sklearn.datasets* (see [doc](https://scikit-learn.org/stable/datasets/index.html))\n"
   ]
  },
  {
   "cell_type": "code",
   "execution_count": 2,
   "metadata": {},
   "outputs": [],
   "source": [
    "import sklearn.datasets as datasets"
   ]
  },
  {
   "cell_type": "markdown",
   "metadata": {
    "slideshow": {
     "slide_type": "slide"
    }
   },
   "source": [
    "\n",
    "### Diabetes\n",
    "\n",
    "We load the *diabetes* datataset and separate the data matrix ($X$), the labels ($y$), and the feature names ($fnames$)."
   ]
  },
  {
   "cell_type": "code",
   "execution_count": 3,
   "metadata": {},
   "outputs": [],
   "source": [
    "dataset = datasets.load_diabetes()\n",
    "\n",
    "X_diabetes = dataset['data']\n",
    "y_diabetes = dataset['target']\n",
    "fnames_diabetes = dataset['feature_names']"
   ]
  },
  {
   "cell_type": "markdown",
   "metadata": {},
   "source": [
    "Let's have a look at our data."
   ]
  },
  {
   "cell_type": "code",
   "execution_count": 4,
   "metadata": {},
   "outputs": [
    {
     "data": {
      "text/plain": [
       "(442, 10)"
      ]
     },
     "execution_count": 4,
     "metadata": {},
     "output_type": "execute_result"
    }
   ],
   "source": [
    "X_diabetes.shape"
   ]
  },
  {
   "cell_type": "code",
   "execution_count": 5,
   "metadata": {},
   "outputs": [
    {
     "data": {
      "text/plain": [
       "['age', 'sex', 'bmi', 'bp', 's1', 's2', 's3', 's4', 's5', 's6']"
      ]
     },
     "execution_count": 5,
     "metadata": {},
     "output_type": "execute_result"
    }
   ],
   "source": [
    "fnames_diabetes"
   ]
  },
  {
   "cell_type": "code",
   "execution_count": 6,
   "metadata": {},
   "outputs": [
    {
     "data": {
      "text/plain": [
       "array([151.,  75., 141., 206., 135.,  97., 138.,  63., 110., 310.])"
      ]
     },
     "execution_count": 6,
     "metadata": {},
     "output_type": "execute_result"
    }
   ],
   "source": [
    "y_diabetes[0:10]"
   ]
  },
  {
   "cell_type": "markdown",
   "metadata": {},
   "source": [
    "*diabetes* is a regression dataset: labels are numbers."
   ]
  },
  {
   "cell_type": "markdown",
   "metadata": {
    "slideshow": {
     "slide_type": "slide"
    }
   },
   "source": [
    "As discussed above, the underlying structure of the data matrix $X$ is a table/matrix/tensor."
   ]
  },
  {
   "cell_type": "code",
   "execution_count": 7,
   "metadata": {
    "slideshow": {
     "slide_type": "-"
    }
   },
   "outputs": [
    {
     "data": {
      "text/plain": [
       "array([[ 0.03807591,  0.05068012,  0.06169621,  0.02187235, -0.0442235 ],\n",
       "       [-0.00188202, -0.04464164, -0.05147406, -0.02632783, -0.00844872],\n",
       "       [ 0.08529891,  0.05068012,  0.04445121, -0.00567061, -0.04559945],\n",
       "       [-0.08906294, -0.04464164, -0.01159501, -0.03665645,  0.01219057],\n",
       "       [ 0.00538306, -0.04464164, -0.03638469,  0.02187235,  0.00393485]])"
      ]
     },
     "execution_count": 7,
     "metadata": {},
     "output_type": "execute_result"
    }
   ],
   "source": [
    "X_diabetes[0:5,0:5]"
   ]
  },
  {
   "cell_type": "markdown",
   "metadata": {
    "slideshow": {
     "slide_type": "slide"
    }
   },
   "source": [
    "### Exercise\n",
    "\n",
    "1. What are the features of individual 10?\n",
    "2. What is the age of individual 23? What do you think is the meaning of this value?\n",
    "3. What is the highest value of diabetes?\n",
    "4. Can you compute the average age of all the individuals? What do you think is the meaning of this result?\n",
    "5. What are the values that the variable 'sex' may assume? How do you interpret them?"
   ]
  },
  {
   "cell_type": "markdown",
   "metadata": {
    "slideshow": {
     "slide_type": "slide"
    }
   },
   "source": [
    "Let's have a look at a plot of diabetes as a function of bmi."
   ]
  },
  {
   "cell_type": "code",
   "execution_count": 8,
   "metadata": {},
   "outputs": [
    {
     "data": {
      "text/plain": [
       "Text(0, 0.5, 'diabetes')"
      ]
     },
     "execution_count": 8,
     "metadata": {},
     "output_type": "execute_result"
    },
    {
     "data": {
      "image/png": "[encoded data removed]",
      "text/plain": [
       "<Figure size 432x288 with 1 Axes>"
      ]
     },
     "metadata": {
      "needs_background": "light"
     },
     "output_type": "display_data"
    }
   ],
   "source": [
    "import matplotlib\n",
    "import matplotlib.pyplot as plt\n",
    "\n",
    "plt.scatter(X_diabetes[:,2],y_diabetes)\n",
    "plt.xlabel('body mass index')\n",
    "plt.ylabel('diabetes')"
   ]
  },
  {
   "cell_type": "markdown",
   "metadata": {
    "slideshow": {
     "slide_type": "slide"
    }
   },
   "source": [
    "### Exercise\n",
    "\n",
    "1. What are the observations you can already make from the plot we made?\n",
    "2. Plot now diabetes as a function of age. What do you observe? What insights do you get from this?"
   ]
  },
  {
   "cell_type": "markdown",
   "metadata": {
    "slideshow": {
     "slide_type": "slide"
    }
   },
   "source": [
    "### Iris\n",
    "\n",
    "Let's have a look at the *iris* datataset as well, and separate the data matrix ($X$), the labels ($y$), and the feature names ($fnames$)."
   ]
  },
  {
   "cell_type": "code",
   "execution_count": 9,
   "metadata": {},
   "outputs": [],
   "source": [
    "dataset = datasets.load_iris()\n",
    "\n",
    "X_iris = dataset['data']\n",
    "y_iris = dataset['target']\n",
    "fnames_iris = dataset['feature_names']"
   ]
  },
  {
   "cell_type": "code",
   "execution_count": 10,
   "metadata": {},
   "outputs": [
    {
     "data": {
      "text/plain": [
       "(150, 4)"
      ]
     },
     "execution_count": 10,
     "metadata": {},
     "output_type": "execute_result"
    }
   ],
   "source": [
    "X_iris.shape"
   ]
  },
  {
   "cell_type": "code",
   "execution_count": 11,
   "metadata": {},
   "outputs": [
    {
     "data": {
      "text/plain": [
       "['sepal length (cm)',\n",
       " 'sepal width (cm)',\n",
       " 'petal length (cm)',\n",
       " 'petal width (cm)']"
      ]
     },
     "execution_count": 11,
     "metadata": {},
     "output_type": "execute_result"
    }
   ],
   "source": [
    "fnames_iris"
   ]
  },
  {
   "cell_type": "code",
   "execution_count": 12,
   "metadata": {},
   "outputs": [
    {
     "data": {
      "text/plain": [
       "array([0, 0, 0, 0, 0, 1, 1, 1, 1, 1])"
      ]
     },
     "execution_count": 12,
     "metadata": {},
     "output_type": "execute_result"
    }
   ],
   "source": [
    "y_iris[45:55]"
   ]
  },
  {
   "cell_type": "markdown",
   "metadata": {},
   "source": [
    "*iris* is a regression dataset: labels are categories."
   ]
  },
  {
   "cell_type": "markdown",
   "metadata": {
    "slideshow": {
     "slide_type": "slide"
    }
   },
   "source": [
    "As discussed above, the underlying structure of the data matrix $X$ is a table/matrix/tensor."
   ]
  },
  {
   "cell_type": "code",
   "execution_count": 13,
   "metadata": {},
   "outputs": [
    {
     "data": {
      "text/plain": [
       "array([[5.1, 3.5, 1.4, 0.2],\n",
       "       [4.9, 3. , 1.4, 0.2],\n",
       "       [4.7, 3.2, 1.3, 0.2],\n",
       "       [4.6, 3.1, 1.5, 0.2],\n",
       "       [5. , 3.6, 1.4, 0.2]])"
      ]
     },
     "execution_count": 13,
     "metadata": {},
     "output_type": "execute_result"
    }
   ],
   "source": [
    "X_iris[0:5,0:5]"
   ]
  },
  {
   "cell_type": "markdown",
   "metadata": {
    "slideshow": {
     "slide_type": "slide"
    }
   },
   "source": [
    "### Exercise\n",
    "\n",
    "1. What are the features of sample 21?\n",
    "2. How many labels do we have?\n",
    "3. What is the maximum and minimum value of petal length?\n",
    "4. Is there a different in how the values of petal length in *iris* are recorded compared to the values of age in *diabetes*?"
   ]
  },
  {
   "cell_type": "markdown",
   "metadata": {
    "slideshow": {
     "slide_type": "slide"
    }
   },
   "source": [
    "Let's have a look at a how the labels depend on petal length and petal width."
   ]
  },
  {
   "cell_type": "code",
   "execution_count": 14,
   "metadata": {},
   "outputs": [
    {
     "data": {
      "text/plain": [
       "Text(0, 0.5, 'petal width')"
      ]
     },
     "execution_count": 14,
     "metadata": {},
     "output_type": "execute_result"
    },
    {
     "data": {
      "image/png": "[encoded data removed]",
      "text/plain": [
       "<Figure size 432x288 with 1 Axes>"
      ]
     },
     "metadata": {
      "needs_background": "light"
     },
     "output_type": "display_data"
    }
   ],
   "source": [
    "colors = ['blue', 'green', 'red']\n",
    "\n",
    "plt.scatter(X_iris[:,2],X_iris[:,3],c=y_iris, cmap=matplotlib.colors.ListedColormap(colors))\n",
    "plt.xlabel('petal length')\n",
    "plt.ylabel('petal width')"
   ]
  },
  {
   "cell_type": "markdown",
   "metadata": {
    "slideshow": {
     "slide_type": "slide"
    }
   },
   "source": [
    "### Exercise\n",
    "\n",
    "1. What are the observations you can already make from the plot we made?\n",
    "2. Plot now the same graph using different feature, for example, sepal length and petal width. What insights do you get from this?"
   ]
  },
  {
   "cell_type": "markdown",
   "metadata": {
    "slideshow": {
     "slide_type": "slide"
    }
   },
   "source": [
    "## Data partitioning\n",
    "\n",
    "As explained, it is important to divide the data between *training* and *test* data.\n",
    "\n",
    "Sometimes, you are given data already partitioned. Sometimes, you have to partition it yourself."
   ]
  },
  {
   "cell_type": "markdown",
   "metadata": {
    "slideshow": {
     "slide_type": "slide"
    }
   },
   "source": [
    "We now divide both *diabetes* and *iris* data in two sets. \n",
    "\n",
    "Before dividing the data, we randomly shuffle it. Notice we apply the same shuffling to data and labels to keep them aligned."
   ]
  },
  {
   "cell_type": "code",
   "execution_count": 15,
   "metadata": {},
   "outputs": [],
   "source": [
    "diabetes_shuffle = np.random.permutation(X_diabetes.shape[0])\n",
    "iris_shuffle = np.random.permutation(X_iris.shape[0])"
   ]
  },
  {
   "cell_type": "code",
   "execution_count": 16,
   "metadata": {},
   "outputs": [],
   "source": [
    "X_diabetes = X_diabetes[diabetes_shuffle]\n",
    "y_diabetes = y_diabetes[diabetes_shuffle]\n",
    "\n",
    "X_iris = X_iris[iris_shuffle]\n",
    "y_iris = y_iris[iris_shuffle]"
   ]
  },
  {
   "cell_type": "markdown",
   "metadata": {},
   "source": [
    "We keep roughly 80% of the samples for training and 20% for testing."
   ]
  },
  {
   "cell_type": "code",
   "execution_count": 17,
   "metadata": {},
   "outputs": [],
   "source": [
    "Xtr_diabetes = X_diabetes[0:350,:]\n",
    "ytr_diabetes = y_diabetes[0:350]\n",
    "Xte_diabetes = X_diabetes[350:,:]\n",
    "yte_diabetes = y_diabetes[350:]\n",
    "\n",
    "Xtr_iris = X_iris[0:120,:]\n",
    "ytr_iris = y_iris[0:120]\n",
    "Xte_iris = X_iris[120:,:]\n",
    "yte_iris = y_iris[120:]"
   ]
  },
  {
   "cell_type": "markdown",
   "metadata": {
    "slideshow": {
     "slide_type": "slide"
    }
   },
   "source": [
    "We have now divided the data. Look how the dimensions match."
   ]
  },
  {
   "cell_type": "code",
   "execution_count": 18,
   "metadata": {},
   "outputs": [
    {
     "name": "stdout",
     "output_type": "stream",
     "text": [
      "(442, 10)\n",
      "(350, 10)\n",
      "(92, 10)\n"
     ]
    }
   ],
   "source": [
    "print(X_diabetes.shape)\n",
    "print(Xtr_diabetes.shape)\n",
    "print(Xte_diabetes.shape)"
   ]
  },
  {
   "cell_type": "code",
   "execution_count": 19,
   "metadata": {},
   "outputs": [
    {
     "name": "stdout",
     "output_type": "stream",
     "text": [
      "(150, 4)\n",
      "(120, 4)\n",
      "(30, 4)\n"
     ]
    }
   ],
   "source": [
    "print(X_iris.shape)\n",
    "print(Xtr_iris.shape)\n",
    "print(Xte_iris.shape)"
   ]
  },
  {
   "cell_type": "markdown",
   "metadata": {
    "slideshow": {
     "slide_type": "slide"
    }
   },
   "source": [
    "From this moment on, it is very important that **knowledge in the test dataset doesn NOT flow into your modeling process**!\n",
    "\n",
    "More sophisticated approaches may require to partition the dataset in more than two parts."
   ]
  },
  {
   "cell_type": "markdown",
   "metadata": {
    "slideshow": {
     "slide_type": "slide"
    }
   },
   "source": [
    "## Data pre-processing\n",
    "\n",
    "Before feeding your data you may want to **pre-process** it:\n",
    "- Delete otuliers\n",
    "- Fix missing values\n",
    "- Makes unit homogeneous\n",
    "- Sub-select some features of interest (*remove redundant features*)\n",
    "- Combine together features\n",
    "- Perform smart transformations (*whitening*, *Fourier*)\n",
    "\n",
    "Pre-processing are transformation you apply to the data because you know they are useful.\n",
    "\n",
    "Some forms of preprocessing have specifing names such as **feature selection**, **feature extraction**, **imputation of missing values**..."
   ]
  },
  {
   "cell_type": "markdown",
   "metadata": {
    "slideshow": {
     "slide_type": "slide"
    }
   },
   "source": [
    "*sklearn* comes with preprocessing functionalities included!\n",
    "\n",
    "Basic preprocessing is made available in *sklearn.preprocessing* (see [doc](https://scikit-learn.org/stable/modules/preprocessing.html)).\n",
    "\n",
    "Other preprocessing module are *sklearn.feature_selection* (see [doc](https://scikit-learn.org/stable/modules/feature_selection.html#feature-selection)), *sklearn.feature_extraction* (see [doc](https://scikit-learn.org/stable/modules/feature_extraction.html#feature-extraction)), or *sklearn.feature_impute* (see [doc](https://scikit-learn.org/stable/modules/impute.html))."
   ]
  },
  {
   "cell_type": "code",
   "execution_count": 20,
   "metadata": {},
   "outputs": [],
   "source": [
    "import sklearn.preprocessing as preproc"
   ]
  },
  {
   "cell_type": "markdown",
   "metadata": {
    "slideshow": {
     "slide_type": "slide"
    }
   },
   "source": [
    "### Feature removal/addition\n",
    "\n",
    "The simplest preprocessing you can imagine is removing or adding features.\n",
    "\n",
    "Let us create a copy of the *diabetes* data were we exclude the age feature."
   ]
  },
  {
   "cell_type": "code",
   "execution_count": 21,
   "metadata": {
    "slideshow": {
     "slide_type": "slide"
    }
   },
   "outputs": [
    {
     "name": "stdout",
     "output_type": "stream",
     "text": [
      "[[-0.04464164  0.04552903  0.09072977 -0.01808039 -0.03544706  0.07072993\n",
      "  -0.03949338 -0.03452372 -0.00936191]\n",
      " [-0.04464164 -0.02668438  0.04941532  0.05897297 -0.01603186 -0.04708248\n",
      "   0.07120998  0.13359898  0.01963284]\n",
      " [-0.04464164 -0.02129532 -0.07452802 -0.04009564 -0.0376391  -0.00658447\n",
      "  -0.03949338 -0.00060925 -0.05492509]\n",
      " [ 0.05068012 -0.00836158 -0.00222774 -0.03321588 -0.06363042 -0.03603757\n",
      "  -0.00259226  0.08058546  0.00720652]\n",
      " [-0.04464164 -0.00405033 -0.00567061 -0.00844872 -0.02386057  0.05232174\n",
      "  -0.03949338 -0.00894402 -0.01350402]\n",
      " [ 0.05068012 -0.03315126 -0.01829447  0.03145391  0.04284006 -0.01394774\n",
      "   0.01991742  0.01022564  0.02791705]\n",
      " [ 0.05068012  0.01750591  0.03220097  0.12777061  0.12739014 -0.02131102\n",
      "   0.07120998  0.06257518  0.01549073]\n",
      " [-0.04464164  0.00564998  0.01154374  0.07823631  0.07791268 -0.04340085\n",
      "   0.1081111   0.06604821  0.01963284]\n",
      " [-0.04464164 -0.02884001 -0.00911348 -0.00432087 -0.00976889  0.04495846\n",
      "  -0.03949338 -0.03075121 -0.04249877]\n",
      " [ 0.05068012 -0.01267283  0.07007254 -0.01120063  0.00714113 -0.03971921\n",
      "   0.03430886  0.00538437  0.00306441]]\n"
     ]
    }
   ],
   "source": [
    "X_diabetes2 = X_diabetes[:,1:]\n",
    "print(X_diabetes2[0:10,:])"
   ]
  },
  {
   "cell_type": "markdown",
   "metadata": {
    "slideshow": {
     "slide_type": "slide"
    }
   },
   "source": [
    "### Exercise\n",
    "\n",
    "1. Can you see why removing a feature may make sense?\n",
    "2. When does it not make sense to remove a feature?\n",
    "3. Do you think that in the case of the *diabetes* dataset does it make sense to remove age?\n",
    "4. Create a new dataset *X_{diabetes3}* made up only by the bmi and bp variable."
   ]
  },
  {
   "cell_type": "markdown",
   "metadata": {
    "slideshow": {
     "slide_type": "slide"
    }
   },
   "source": [
    "\n",
    "Alternatively, we may introduce new features combining existing features.\n",
    "\n",
    "We will add to the *diabetes* data a new variable given by the product of s1 and s4.\n"
   ]
  },
  {
   "cell_type": "code",
   "execution_count": 22,
   "metadata": {},
   "outputs": [
    {
     "data": {
      "text/plain": [
       "(442, 11)"
      ]
     },
     "execution_count": 22,
     "metadata": {},
     "output_type": "execute_result"
    }
   ],
   "source": [
    "X_diabetes4 = X_diabetes.copy()\n",
    "X_diabetes4 = np.hstack((X_diabetes4, np.expand_dims(X_diabetes4[:,4]*X_diabetes4[:,7],axis=1)))\n",
    "X_diabetes4.shape"
   ]
  },
  {
   "cell_type": "code",
   "execution_count": 23,
   "metadata": {},
   "outputs": [
    {
     "name": "stdout",
     "output_type": "stream",
     "text": [
      "[[-0.04464164  0.04552903  0.09072977 -0.01808039 -0.03544706  0.07072993\n",
      "  -0.03949338 -0.03452372 -0.00936191]\n",
      " [-0.04464164 -0.02668438  0.04941532  0.05897297 -0.01603186 -0.04708248\n",
      "   0.07120998  0.13359898  0.01963284]\n",
      " [-0.04464164 -0.02129532 -0.07452802 -0.04009564 -0.0376391  -0.00658447\n",
      "  -0.03949338 -0.00060925 -0.05492509]\n",
      " [ 0.05068012 -0.00836158 -0.00222774 -0.03321588 -0.06363042 -0.03603757\n",
      "  -0.00259226  0.08058546  0.00720652]\n",
      " [-0.04464164 -0.00405033 -0.00567061 -0.00844872 -0.02386057  0.05232174\n",
      "  -0.03949338 -0.00894402 -0.01350402]\n",
      " [ 0.05068012 -0.03315126 -0.01829447  0.03145391  0.04284006 -0.01394774\n",
      "   0.01991742  0.01022564  0.02791705]\n",
      " [ 0.05068012  0.01750591  0.03220097  0.12777061  0.12739014 -0.02131102\n",
      "   0.07120998  0.06257518  0.01549073]\n",
      " [-0.04464164  0.00564998  0.01154374  0.07823631  0.07791268 -0.04340085\n",
      "   0.1081111   0.06604821  0.01963284]\n",
      " [-0.04464164 -0.02884001 -0.00911348 -0.00432087 -0.00976889  0.04495846\n",
      "  -0.03949338 -0.03075121 -0.04249877]\n",
      " [ 0.05068012 -0.01267283  0.07007254 -0.01120063  0.00714113 -0.03971921\n",
      "   0.03430886  0.00538437  0.00306441]]\n"
     ]
    }
   ],
   "source": [
    "print(X_diabetes2[0:10,:])"
   ]
  },
  {
   "cell_type": "markdown",
   "metadata": {
    "slideshow": {
     "slide_type": "slide"
    }
   },
   "source": [
    "### Exercise\n",
    "\n",
    "1. Can you see why combining features may make sense?\n",
    "2. Create a new dataset *X_{diabetes4}* adding two new features: (i) s1+s2+s3+s4+s5, (ii) bm / bp.\n",
    "3. Any formal concern with generating the new feature (ii)?"
   ]
  },
  {
   "cell_type": "markdown",
   "metadata": {
    "slideshow": {
     "slide_type": "slide"
    }
   },
   "source": [
    "In general, it will be probably rare for you to add or delete features by considering their meaning.\n",
    "\n",
    "Normally features are meaningful, and, in general, you don't want to discard information.\n",
    "\n",
    "More refined methods may be used to manipulate/change/redesign features.\n",
    "\n",
    "Yet, you should **always think if what you are doing makes sense**!"
   ]
  },
  {
   "cell_type": "markdown",
   "metadata": {
    "slideshow": {
     "slide_type": "slide"
    }
   },
   "source": [
    "### Feature Scaling\n",
    "\n",
    "*Scaling* allows to rescale features in a given interval.\n",
    "\n",
    "Let us consider the first ten samples on the *iris* data and rescale them."
   ]
  },
  {
   "cell_type": "code",
   "execution_count": 24,
   "metadata": {},
   "outputs": [
    {
     "name": "stdout",
     "output_type": "stream",
     "text": [
      "[[6.4 2.9 4.3 1.3]\n",
      " [6.9 3.2 5.7 2.3]\n",
      " [6.4 3.2 5.3 2.3]\n",
      " [5.8 2.8 5.1 2.4]\n",
      " [5.4 3.  4.5 1.5]\n",
      " [6.2 2.8 4.8 1.8]\n",
      " [5.  2.  3.5 1. ]\n",
      " [6.3 2.7 4.9 1.8]\n",
      " [4.5 2.3 1.3 0.3]\n",
      " [6.7 3.3 5.7 2.5]]\n"
     ]
    }
   ],
   "source": [
    "X = X_iris[0:10,:].copy()\n",
    "print(X)"
   ]
  },
  {
   "cell_type": "code",
   "execution_count": 25,
   "metadata": {},
   "outputs": [
    {
     "name": "stdout",
     "output_type": "stream",
     "text": [
      "[[ 0.59965319  0.2054662  -0.1691734  -0.62498893]\n",
      " [ 1.28107728  0.97596444  0.95864924  0.86307995]\n",
      " [ 0.59965319  0.97596444  0.6364142   0.86307995]\n",
      " [-0.21805571 -0.05136655  0.47529668  1.01188684]\n",
      " [-0.76319497  0.46229895 -0.00805588 -0.32737515]\n",
      " [ 0.32708356 -0.05136655  0.2336204   0.11904551]\n",
      " [-1.30833424 -2.10602854 -0.81364348 -1.07140959]\n",
      " [ 0.46336838 -0.3081993   0.31417916  0.11904551]\n",
      " [-1.98975832 -1.33553029 -2.58593619 -2.1130578 ]\n",
      " [ 1.00850764  1.23279719  0.95864924  1.16069372]]\n"
     ]
    }
   ],
   "source": [
    "X_scaled = preproc.scale(X)\n",
    "print(X_scaled)"
   ]
  },
  {
   "cell_type": "markdown",
   "metadata": {
    "slideshow": {
     "slide_type": "slide"
    }
   },
   "source": [
    "### Exercise\n",
    "\n",
    "1. Check the mean of each column in $X$ and $X_{scaled}$. What do you observe?\n",
    "2. Can you guess why such a transformation would make sense?"
   ]
  },
  {
   "cell_type": "markdown",
   "metadata": {
    "slideshow": {
     "slide_type": "slide"
    }
   },
   "source": [
    "## Model fitting\n",
    "\n",
    "Next, we actually apply a **model** to the data.\n",
    "\n",
    "Depending on what you are doing there are many available models:\n",
    "- Supervised learning\n",
    "    - linear regression\n",
    "    - quadratic regression\n",
    "    - logistic regression\n",
    "    - k-nearest neighbours\n",
    "    - classification trees\n",
    "    - neural networks\n",
    "    - ...\n",
    "- Unsupervised learning\n",
    "    - principal component analysis\n",
    "    - k-means\n",
    "    - autoencoders\n",
    "    - Gaussian mixture models\n",
    "    - ...\n",
    "    \n",
    "You find all these models in *sklearn*!"
   ]
  },
  {
   "cell_type": "markdown",
   "metadata": {
    "slideshow": {
     "slide_type": "slide"
    }
   },
   "source": [
    "*sklearn* provides a simple and neat interface to all the models:\n",
    "\n",
    "1. Choose your model\n",
    "2. Instantiate the model\n",
    "3. Fit the model to your training data using the *fit()* function\n",
    "4. Apply the model to your test data using the *predict()* function (in supervised learning) or *transform()* function (in unsupervised learning).\n",
    "\n",
    "**The most important step here is step 1!**"
   ]
  },
  {
   "cell_type": "markdown",
   "metadata": {
    "slideshow": {
     "slide_type": "slide"
    }
   },
   "source": [
    "### Linear Regression\n",
    "\n",
    "In linear regression, we try to predict a continuous value from (a set of) other values by combining them linearly.\n",
    "\n",
    "Let us consider the *diabetes* data set. For illustration, we will try to *regress* the diabetes index on the bmi feature. (We now use only one feature as an example)"
   ]
  },
  {
   "cell_type": "markdown",
   "metadata": {
    "slideshow": {
     "slide_type": "slide"
    }
   },
   "source": [
    "We first subselect our data."
   ]
  },
  {
   "cell_type": "code",
   "execution_count": 26,
   "metadata": {},
   "outputs": [],
   "source": [
    "Xtr_linregr = np.expand_dims(Xtr_diabetes[:,2],axis=1)\n",
    "ytr_linregr = ytr_diabetes\n",
    "\n",
    "Xte_linregr = np.expand_dims(Xte_diabetes[:,2],axis=1)\n",
    "yte_linregr = yte_diabetes"
   ]
  },
  {
   "cell_type": "markdown",
   "metadata": {
    "slideshow": {
     "slide_type": "slide"
    }
   },
   "source": [
    "We apply the model."
   ]
  },
  {
   "cell_type": "code",
   "execution_count": 27,
   "metadata": {},
   "outputs": [],
   "source": [
    "import sklearn.linear_model as lm\n",
    "\n",
    "model = lm.LinearRegression()"
   ]
  },
  {
   "cell_type": "code",
   "execution_count": 28,
   "metadata": {},
   "outputs": [
    {
     "data": {
      "text/plain": [
       "LinearRegression()"
      ]
     },
     "execution_count": 28,
     "metadata": {},
     "output_type": "execute_result"
    }
   ],
   "source": [
    "model.fit(Xtr_linregr,ytr_linregr)"
   ]
  },
  {
   "cell_type": "code",
   "execution_count": 29,
   "metadata": {},
   "outputs": [],
   "source": [
    "yhat1 = model.predict(Xte_linregr)"
   ]
  },
  {
   "cell_type": "markdown",
   "metadata": {},
   "source": [
    "Now $\\hat{y}$ are the prediction of our model. We can compare them with the ground truth ($y_{te}$)"
   ]
  },
  {
   "cell_type": "code",
   "execution_count": 30,
   "metadata": {
    "scrolled": true
   },
   "outputs": [
    {
     "name": "stdout",
     "output_type": "stream",
     "text": [
      "[131. 144. 258. 129.  79.  85.  64.  83. 317. 144.]\n",
      "[157.63986581 130.1781414  251.79434948 154.69753819  90.94710654\n",
      "  77.21624434  97.81253764 102.716417   194.90934893 196.87090067]\n"
     ]
    }
   ],
   "source": [
    "print(yte_linregr[0:10])\n",
    "print(yhat1[0:10])"
   ]
  },
  {
   "cell_type": "markdown",
   "metadata": {
    "slideshow": {
     "slide_type": "slide"
    }
   },
   "source": [
    "Let see exactly what our model is."
   ]
  },
  {
   "cell_type": "code",
   "execution_count": 31,
   "metadata": {},
   "outputs": [
    {
     "data": {
      "text/plain": [
       "Text(0, 0.5, 'diabetes')"
      ]
     },
     "execution_count": 31,
     "metadata": {},
     "output_type": "execute_result"
    },
    {
     "data": {
      "image/png": "[encoded data removed]",
      "text/plain": [
       "<Figure size 432x288 with 1 Axes>"
      ]
     },
     "metadata": {
      "needs_background": "light"
     },
     "output_type": "display_data"
    }
   ],
   "source": [
    "plt.scatter(X_diabetes[:,2],y_diabetes)\n",
    "\n",
    "xs = np.arange(-.10,.15,.01)\n",
    "plt.plot(xs, model.predict(np.expand_dims(xs,axis=1)),c='red')\n",
    "\n",
    "plt.xlabel('body mass index')\n",
    "plt.ylabel('diabetes')"
   ]
  },
  {
   "cell_type": "markdown",
   "metadata": {
    "slideshow": {
     "slide_type": "slide"
    }
   },
   "source": [
    "We don't have to use only one feature in the linear regression model. We can use all of them."
   ]
  },
  {
   "cell_type": "code",
   "execution_count": 32,
   "metadata": {},
   "outputs": [],
   "source": [
    "model = lm.LinearRegression()\n",
    "model.fit(Xtr_diabetes,ytr_diabetes)\n",
    "yhat2 = model.predict(Xte_diabetes)"
   ]
  },
  {
   "cell_type": "markdown",
   "metadata": {},
   "source": [
    "Let's check the predictions againt the ground truth:"
   ]
  },
  {
   "cell_type": "code",
   "execution_count": 33,
   "metadata": {},
   "outputs": [
    {
     "name": "stdout",
     "output_type": "stream",
     "text": [
      "[131. 144. 258. 129.  79.  85.  64.  83. 317. 144.]\n",
      "[157.63986581 130.1781414  251.79434948 154.69753819  90.94710654\n",
      "  77.21624434  97.81253764 102.716417   194.90934893 196.87090067]\n",
      "[167.00774434 119.78406983 290.39683481 196.15564856 117.52023817\n",
      "  55.70935746 117.03564108  71.72512557 222.38830538 152.82302978]\n"
     ]
    }
   ],
   "source": [
    "print(yte_diabetes[0:10])\n",
    "print(yhat1[0:10])\n",
    "print(yhat2[0:10])"
   ]
  },
  {
   "cell_type": "markdown",
   "metadata": {},
   "source": [
    "We will see how to evaluate properly later, but you already see that considering more features improved the results.\n",
    "\n",
    "Unfortunately it is now unfeasible to plot the data considering all the features!"
   ]
  },
  {
   "cell_type": "markdown",
   "metadata": {
    "slideshow": {
     "slide_type": "slide"
    }
   },
   "source": [
    "### Exercise\n",
    "\n",
    "1. What do you think are the limitation of this model?\n",
    "2. What do you think are the strength of this model?\n",
    "3. Try to regress the diabetes index on age. What do you observe?"
   ]
  },
  {
   "cell_type": "markdown",
   "metadata": {
    "slideshow": {
     "slide_type": "slide"
    }
   },
   "source": [
    "### Logistic Regression \n",
    "In logistic regression, we try to predict a category from (a set of) other values, again by combining them linearly.\n",
    "\n",
    "Let us consider the *iris* data set. For illustration, we will try to classify data from two classes using petal width and petal length."
   ]
  },
  {
   "cell_type": "markdown",
   "metadata": {
    "slideshow": {
     "slide_type": "slide"
    }
   },
   "source": [
    "We first subselect the data we will work with."
   ]
  },
  {
   "cell_type": "code",
   "execution_count": 34,
   "metadata": {},
   "outputs": [],
   "source": [
    "selection_tr = ytr_iris<2\n",
    "selection_te = yte_iris<2\n",
    "\n",
    "Xtr_logregr = Xtr_iris[selection_tr,0:2]\n",
    "ytr_logregr = ytr_iris[selection_tr]\n",
    "Xte_logregr = Xte_iris[selection_te,0:2]\n",
    "yte_logregr = yte_iris[selection_te]"
   ]
  },
  {
   "cell_type": "markdown",
   "metadata": {},
   "source": [
    "Notice that our data has decreased"
   ]
  },
  {
   "cell_type": "code",
   "execution_count": 35,
   "metadata": {},
   "outputs": [
    {
     "name": "stdout",
     "output_type": "stream",
     "text": [
      "(81, 2)\n",
      "(19, 2)\n"
     ]
    }
   ],
   "source": [
    "print(Xtr_logregr.shape)\n",
    "print(Xte_logregr.shape)"
   ]
  },
  {
   "cell_type": "markdown",
   "metadata": {
    "slideshow": {
     "slide_type": "slide"
    }
   },
   "source": [
    "We apply the model."
   ]
  },
  {
   "cell_type": "code",
   "execution_count": 36,
   "metadata": {},
   "outputs": [],
   "source": [
    "model = lm.LogisticRegression()"
   ]
  },
  {
   "cell_type": "code",
   "execution_count": 37,
   "metadata": {},
   "outputs": [
    {
     "data": {
      "text/plain": [
       "LogisticRegression()"
      ]
     },
     "execution_count": 37,
     "metadata": {},
     "output_type": "execute_result"
    }
   ],
   "source": [
    "model.fit(Xtr_logregr,ytr_logregr)"
   ]
  },
  {
   "cell_type": "code",
   "execution_count": 38,
   "metadata": {},
   "outputs": [],
   "source": [
    "yhat3 = model.predict(Xte_logregr)"
   ]
  },
  {
   "cell_type": "markdown",
   "metadata": {},
   "source": [
    "Now $\\hat{y}$ are the prediction of our model. We can compare them with the ground truth ($y_{te}$)"
   ]
  },
  {
   "cell_type": "code",
   "execution_count": 39,
   "metadata": {
    "scrolled": true
   },
   "outputs": [
    {
     "name": "stdout",
     "output_type": "stream",
     "text": [
      "[1 1 1 0 1 0 1 0 1 0]\n",
      "[1 1 1 0 1 0 1 0 1 0]\n"
     ]
    }
   ],
   "source": [
    "print(yte_logregr[0:10])\n",
    "print(yhat3[0:10])"
   ]
  },
  {
   "cell_type": "markdown",
   "metadata": {
    "slideshow": {
     "slide_type": "slide"
    }
   },
   "source": [
    "Let see exactly what our model is."
   ]
  },
  {
   "cell_type": "code",
   "execution_count": 45,
   "metadata": {},
   "outputs": [
    {
     "data": {
      "text/plain": [
       "Text(0, 0.5, 'sepal width (cm)')"
      ]
     },
     "execution_count": 45,
     "metadata": {},
     "output_type": "execute_result"
    },
    {
     "data": {
      "image/png": "[encoded data removed]",
      "text/plain": [
       "<Figure size 432x288 with 1 Axes>"
      ]
     },
     "metadata": {
      "needs_background": "light"
     },
     "output_type": "display_data"
    }
   ],
   "source": [
    "plt.scatter(Xtr_logregr[:,0],Xtr_logregr[:,1],c=ytr_logregr, cmap=matplotlib.colors.ListedColormap(colors))\n",
    "\n",
    "xs = np.arange(4,7,.01)\n",
    "line_bias = model.intercept_\n",
    "line_w = model.coef_.T\n",
    "ys=[(line_w[0]*x+line_bias)/(-1*line_w[1]) for x in xs]\n",
    "plt.plot(xs, ys, c='black')\n",
    "\n",
    "plt.xlabel('sepal length (cm)')\n",
    "plt.ylabel('sepal width (cm)')"
   ]
  },
  {
   "cell_type": "markdown",
   "metadata": {
    "slideshow": {
     "slide_type": "slide"
    }
   },
   "source": [
    "### Exercise\n",
    "\n",
    "1. What is the difference between the line we plotted for linear regression and the line we plotted for logistic regression?\n",
    "2. As in the case of linear regression, logistic regression is not limited to two features. Run the logistic regression algorithm using all four features.\n",
    "3. Logistic regression can deal with more than two classes. Run the logistic regression algorithm using all four features, and considering three classes."
   ]
  },
  {
   "cell_type": "markdown",
   "metadata": {
    "slideshow": {
     "slide_type": "slide"
    }
   },
   "source": [
    "### k-means"
   ]
  },
  {
   "cell_type": "markdown",
   "metadata": {
    "slideshow": {
     "slide_type": "slide"
    }
   },
   "source": [
    "### Classification trees"
   ]
  },
  {
   "cell_type": "markdown",
   "metadata": {
    "slideshow": {
     "slide_type": "slide"
    }
   },
   "source": [
    "### Neural Networks "
   ]
  },
  {
   "cell_type": "markdown",
   "metadata": {
    "slideshow": {
     "slide_type": "slide"
    }
   },
   "source": [
    "## Evaluation"
   ]
  },
  {
   "cell_type": "markdown",
   "metadata": {
    "slideshow": {
     "slide_type": "slide"
    }
   },
   "source": [
    "# Learning More\n",
    "\n",
    "This class has illustrated how machine learning can be carried out using python.\n",
    "\n",
    "python provides a **powerful** and **fun** environment to do machine learning!"
   ]
  },
  {
   "cell_type": "markdown",
   "metadata": {
    "slideshow": {
     "slide_type": "slide"
    }
   },
   "source": [
    "\n",
    "Some **takeaway points** when you do machine learning in python:\n",
    "\n",
    "- Think about what you are doing\n",
    "- Think about what you want to do\n",
    "- Think about what model you can use\n",
    "- Read the documentation\n"
   ]
  },
  {
   "cell_type": "markdown",
   "metadata": {
    "slideshow": {
     "slide_type": "slide"
    }
   },
   "source": [
    "There is **much much more** to machine learning and python!!\n",
    "\n",
    "If you want to learn more about python, check:\n",
    "- [https://www.python.org/](https://www.python.org/)\n",
    "\n",
    "If you want to learn more about scikit-learn, check:\n",
    "- [https://scikit-learn.org/stable/index.html](https://scikit-learn.org/stable/index.html)\n",
    "\n",
    "If you want to learn more about machine learning in python, consider:\n",
    "- Sarah Guido, *Introduction to Machine Learning with Python*\n",
    "- [Introduction to Machine Learning with Python](https://github.com/amueller/introduction_to_ml_with_python)\n",
    "- [Dive into Machine Learning](https://github.com/hangtwenty/dive-into-machine-learning)\n",
    "- Sebastian Raschka, *Python Machine Learning*\n",
    "\n",
    "If you want to learn more about machine learning, consider:\n",
    "- Cristoper Bishop, *Pattern Recognition and Machine Learning*\n",
    "- Peter E. Hart, Richard O. Duda, David G. Stork, *Pattern Classification*"
   ]
  }
 ],
 "metadata": {
  "celltoolbar": "Slideshow",
  "kernelspec": {
   "display_name": "Python 3",
   "language": "python",
   "name": "python3"
  },
  "language_info": {
   "codemirror_mode": {
    "name": "ipython",
    "version": 3
   },
   "file_extension": ".py",
   "mimetype": "text/x-python",
   "name": "python",
   "nbconvert_exporter": "python",
   "pygments_lexer": "ipython3",
   "version": "3.8.5"
  },
  "toc": {
   "base_numbering": 1,
   "nav_menu": {},
   "number_sections": true,
   "sideBar": true,
   "skip_h1_title": false,
   "title_cell": "Table of Contents",
   "title_sidebar": "Contents",
   "toc_cell": false,
   "toc_position": {
    "height": "calc(100% - 180px)",
    "left": "10px",
    "top": "150px",
    "width": "426.667px"
   },
   "toc_section_display": true,
   "toc_window_display": true
  }
 },
 "nbformat": 4,
 "nbformat_minor": 4
}
