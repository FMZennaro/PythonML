{
 "cells": [
  {
   "cell_type": "markdown",
   "metadata": {
    "slideshow": {
     "slide_type": "slide"
    }
   },
   "source": [
    "# Python for Machine Learning\n",
    "\n",
    "1. Content\n",
    "2. Review of ML\n",
    "    - Supervised learning\n",
    "    - Unsuperivised learning\n",
    "3. Python Environment for ML\n",
    "    - Libraries and modules for ML\n",
    "4. ML in scikit-learn\n",
    "    - Introduction to sklearn\n",
    "    - Basic ML: linear regression, logistic regression, k-means\n",
    "    - Moderate ML: classification trees, neural networks\n",
    "5. Learning more "
   ]
  },
  {
   "cell_type": "markdown",
   "metadata": {
    "slideshow": {
     "slide_type": "slide"
    }
   },
   "source": [
    "# Review of ML\n",
    "\n",
    "*What is ML?*\n",
    "\n",
    "- Making sense of data\n",
    "- Performing induction on data\n",
    "\n",
    "In ML we are given **data**, and we want to learn **something** from the data.\n",
    "\n",
    "ML answers the question **how** to learn; the question **what** to learn is up to YOU."
   ]
  },
  {
   "cell_type": "markdown",
   "metadata": {
    "slideshow": {
     "slide_type": "slide"
    }
   },
   "source": [
    "## Types of ML\n",
    "\n",
    "*What types of ML are there?*\n",
    "\n",
    "We can formalize different learning tasks\n",
    "\n",
    "- Supervised learning\n",
    "- Unsupervised learning\n",
    "- Reinforcement learning\n",
    "- Semi-supervised learning\n",
    "- Transfer learning\n",
    "- ...\n",
    "\n",
    "Problems vary according to the the type of **data** you are given and the type of **knowledge** you want to get."
   ]
  },
  {
   "cell_type": "markdown",
   "metadata": {
    "slideshow": {
     "slide_type": "slide"
    }
   },
   "source": [
    "## Supervised learning\n",
    "\n",
    "In *supervised learning* we are given a set of **individuals** or *samples*. Each one has a set of numerical **attributes** and it comes with a **label** on interest.\n",
    "\n",
    "We feed all this data to a **model** which is supposed to learn the **relationship** between attributes and labels.\n",
    "\n",
    "<img src=\"SL_train1.png\" width=\"1000\"/>\n",
    "\n",
    "This phase is called **training** or *fitting*."
   ]
  },
  {
   "cell_type": "markdown",
   "metadata": {
    "slideshow": {
     "slide_type": "slide"
    }
   },
   "source": [
    "\n",
    "Once we have trained a model, we can use it to **predict** the label of new individuals.\n",
    "\n",
    "<img src=\"SL_use1.png\" width=\"1000\"/>\n",
    "\n",
    "This phase is called **testing** or *deployment*.\n"
   ]
  },
  {
   "cell_type": "markdown",
   "metadata": {
    "slideshow": {
     "slide_type": "slide"
    }
   },
   "source": [
    "## Unsupervised learning\n",
    "\n",
    "In *unsuperivised learning* we do not have *labels*. So what we try to do is to **group** individuals together in a meaningful way using their attributes.\n",
    "\n",
    "<img src=\"UL.png\" width=\"1000\"/>\n",
    "\n",
    "More in general, we try to **discover structure** in the data. "
   ]
  },
  {
   "cell_type": "markdown",
   "metadata": {
    "slideshow": {
     "slide_type": "slide"
    }
   },
   "source": [
    "## Problem of generalization\n",
    "\n",
    "It is important to understand that we want our model **not to memorize** the data, but to **generalize**.\n",
    "\n",
    "We want the model to be able to predict/categorize/group new data that it has **never** seen before.\n",
    "\n",
    "This is what we mean by **induction**.\n",
    "\n",
    "This is supposed to work like humans: after seeing some examples of horse, you are able to recognize specific instances of horse, even if you had not seen this specific horses before."
   ]
  },
  {
   "cell_type": "markdown",
   "metadata": {
    "slideshow": {
     "slide_type": "slide"
    }
   },
   "source": [
    "## Fitting and testing\n",
    "\n",
    "The machine learning workflow includes then two main distinct phases:\n",
    "\n",
    "1. **Training**: you use a set of data (**training data**) to fit/configure your model\n",
    "2. **Testing**: you use a set of data (**test data**) to evaluate the level of generalization of your model.\n",
    "\n",
    "Since *generalization* must be assessed on unseen case, it is **VERY IMPORTANT** that the *test data* is **NEVER** used during training."
   ]
  },
  {
   "cell_type": "markdown",
   "metadata": {
    "slideshow": {
     "slide_type": "slide"
    }
   },
   "source": [
    "# Python Environment for ML\n",
    "\n",
    "Python provides a flexible and customizable environment to set up your machine learning setup.\n",
    "\n",
    "![](python_env.png)\n",
    "\n",
    "Use **environment manager** systems to control you environment (e.g.: **conda**)\n",
    "- Install packages for you\n",
    "- Verify consistency between packages\n",
    "- Allow rollback"
   ]
  },
  {
   "cell_type": "markdown",
   "metadata": {
    "slideshow": {
     "slide_type": "slide"
    }
   },
   "source": [
    "## What we consider\n",
    "\n",
    "<img src=\"python_env.png\">\n",
    "\n",
    "- **numpy**: library supporting matrices and tensors\n",
    "- **matplotlib**: library for plotting\n",
    "- **scikit-learn**: library for machine learning"
   ]
  },
  {
   "cell_type": "markdown",
   "metadata": {
    "slideshow": {
     "slide_type": "slide"
    }
   },
   "source": [
    "## What we do not consider\n",
    "\n",
    "![](python_env.png)\n",
    "\n",
    "- **scipy**: library providing scientific modules for dealing with signal processing, statistics, engineering...\n",
    "- **joblib**: library for pipelining\n",
    "- **pandas**: library for managing and querying data frames\n",
    "- **networkx**: library for working with graphs\n",
    "- **tensorflow** and **pytorch**: library for running neural networks\n",
    "- **jupyter**: interactive interface to the python environment (what we are running now)"
   ]
  },
  {
   "cell_type": "markdown",
   "metadata": {
    "slideshow": {
     "slide_type": "slide"
    }
   },
   "source": [
    "# ML in scikit-learn\n",
    "\n",
    "*scikit-learn* is a popular python package providing a wide selection of algorithms.\n",
    "\n",
    "We are going to see how to carry out machine learning tasks relying on *scikit-learn*.\n",
    "\n",
    "*scikit-learn* contains many more functionalities than the few ones we are going to consider here. Refer to the [documentation](https://scikit-learn.org/stable/) to learn more!"
   ]
  },
  {
   "cell_type": "markdown",
   "metadata": {
    "slideshow": {
     "slide_type": "slide"
    }
   },
   "source": [
    "## ML pipeline\n",
    "\n",
    "A simplified ML pipeline contains at least the following steps:\n",
    "\n",
    "![](ML_pipeline.png)\n",
    "\n",
    "- *Data loading*: we start by gathering the data we want to analyze\n",
    "- *Data partitioning*: we divide data for training/fitting and data for evaluation\n",
    "- *Data pre-processing*: we fix and/or improve the data quality\n",
    "- *Model fitting*: we apply a machine learning model\n",
    "- *Evaluation*: we measure how well the model performs\n",
    "\n",
    "If we are happy with the evaluation we can then deploy our model; otherwise, we go back."
   ]
  },
  {
   "cell_type": "markdown",
   "metadata": {
    "slideshow": {
     "slide_type": "slide"
    }
   },
   "source": [
    "## Data as matrices/tensors\n",
    "\n",
    "Data is essentially represented as a *table*\n",
    "\n",
    "  .   | Age | Pressure | Heartrate | ... | BMI \n",
    "------|------------|------------|------------|-----|------------\n",
    "Hippocrates | 36 | 120 | 69 | ... | 20\n",
    "Imhotep | 72 | 112 | 81 | ... | 21\n",
    "Charaka | 51 | 85 | 87 | ... | 20\n",
    "... | ... | .... | .... | ... | ...\n",
    "Ibn-Sina | 18 | 131 | 62 | ... | 22\n",
    "\n",
    "\n",
    "- each row is a **sample**, *observation*, *case*, or *individual*.\n",
    "- each column is a **feature**, or *attribute*.\n",
    "- we usually refer to this table as $X$\n",
    "\n",
    "This interpretation of rows and columns is pretty standard, but **remember to always check**!"
   ]
  },
  {
   "cell_type": "markdown",
   "metadata": {
    "slideshow": {
     "slide_type": "slide"
    }
   },
   "source": [
    "We use **numpy** to encode a data table in a **matrix**, or *2D array* or *2D tensor*."
   ]
  },
  {
   "cell_type": "code",
   "execution_count": 1,
   "metadata": {},
   "outputs": [
    {
     "name": "stdout",
     "output_type": "stream",
     "text": [
      "[[ 36 120  69  20]\n",
      " [ 72 132  81  21]\n",
      " [ 51  85  87  20]\n",
      " [ 18 131  62  22]]\n"
     ]
    }
   ],
   "source": [
    "import numpy as np\n",
    "\n",
    "X = np.array([[36,120,69,20],\n",
    "             [72,132,81,21],\n",
    "             [51,85,87,20],\n",
    "             [18,131,62,22]])\n",
    "\n",
    "print(X)"
   ]
  },
  {
   "cell_type": "markdown",
   "metadata": {},
   "source": [
    "Notice we discarded the name of columns and row.\n",
    "\n",
    "Working with all the numbers in a single matrix allows to make computation very efficient!"
   ]
  },
  {
   "cell_type": "markdown",
   "metadata": {
    "slideshow": {
     "slide_type": "slide"
    }
   },
   "source": [
    "If available we can represent labels similarly, in an *array*.\n",
    "\n",
    "We may have **categorical** labels for *classsification*\n",
    "\n",
    "  .   | Disease\n",
    "------|------------\n",
    "Hippocrates | 0 \n",
    "Imhotep | 1 \n",
    "Charaka | 0 \n",
    "... | ... \n",
    "Ibn-Sina | 0 "
   ]
  },
  {
   "cell_type": "markdown",
   "metadata": {
    "slideshow": {
     "slide_type": "slide"
    }
   },
   "source": [
    "Or **continuous** labels for *regression*\n",
    "\n",
    "  .   | Disease Progression\n",
    "------|------------\n",
    "Hippocrates | 0.2 \n",
    "Imhotep | 0.3 \n",
    "Charaka | 0 \n",
    "... | ... \n",
    "Ibn-Sina | 0.11 \n",
    "\n",
    "- each row refers to a **sample**.\n",
    "- each column is a **label**, or *target*.\n",
    "- we usually refer to this table as $y$"
   ]
  },
  {
   "cell_type": "markdown",
   "metadata": {
    "slideshow": {
     "slide_type": "slide"
    }
   },
   "source": [
    "We use **numpy** to encode a labels in a **array**."
   ]
  },
  {
   "cell_type": "code",
   "execution_count": 2,
   "metadata": {},
   "outputs": [
    {
     "name": "stdout",
     "output_type": "stream",
     "text": [
      "[0 1 0 0]\n"
     ]
    }
   ],
   "source": [
    "y = np.array([0,1,0,0])\n",
    "\n",
    "print(y)"
   ]
  },
  {
   "cell_type": "markdown",
   "metadata": {},
   "source": [
    "As before notice we discarded the name of columns and row.\n",
    "\n",
    "Remember that $X$ and $y$ must be **kept aligned**! The sample on row $i$ in the matrix $X$ corresponds to the labels $i$ in $y$."
   ]
  },
  {
   "cell_type": "code",
   "execution_count": 3,
   "metadata": {},
   "outputs": [
    {
     "name": "stdout",
     "output_type": "stream",
     "text": [
      "[51 85 87 20]\n",
      "0\n"
     ]
    }
   ],
   "source": [
    "print(X[2,:])\n",
    "print(y[2])"
   ]
  },
  {
   "cell_type": "markdown",
   "metadata": {
    "slideshow": {
     "slide_type": "slide"
    }
   },
   "source": [
    "Notice that *numpy* (and *scikit-learn*) are pretty rigorous on the **shape** of the objects.\n",
    "\n",
    "Let's look at the shape of $X$ and $y$."
   ]
  },
  {
   "cell_type": "code",
   "execution_count": 4,
   "metadata": {},
   "outputs": [
    {
     "name": "stdout",
     "output_type": "stream",
     "text": [
      "(4, 4)\n",
      "(4,)\n"
     ]
    }
   ],
   "source": [
    "print(X.shape)\n",
    "print(y.shape)"
   ]
  },
  {
   "cell_type": "markdown",
   "metadata": {},
   "source": [
    "$X$ has two dimensions (of size 10 and 4), while $y$ has a single dimension (of size 4).\n",
    "\n",
    "Some algorithms may ask you to provide a two-dimensional $X$ and a two dimensional $y$. We can easily add a unitary dimension to $y$."
   ]
  },
  {
   "cell_type": "code",
   "execution_count": 5,
   "metadata": {},
   "outputs": [
    {
     "name": "stdout",
     "output_type": "stream",
     "text": [
      "[[0]\n",
      " [1]\n",
      " [0]\n",
      " [0]]\n",
      "(4, 1)\n"
     ]
    }
   ],
   "source": [
    "Y = np.expand_dims(y,axis=1)\n",
    "print(Y)\n",
    "print(Y.shape)"
   ]
  },
  {
   "cell_type": "markdown",
   "metadata": {},
   "source": [
    "The content of $y$ is the same.\n",
    "\n",
    "However, for *numpy* the shape (4,) is different from (4,1).\n",
    "\n",
    "**Be careful about what shapes are requires.**"
   ]
  },
  {
   "cell_type": "markdown",
   "metadata": {
    "slideshow": {
     "slide_type": "slide"
    }
   },
   "source": [
    "## Data loading/generation\n",
    "\n",
    "ML starts with **data**. You can:\n",
    "- Collect your own data (complex, costly)\n",
    "- Load available data (easy with public dataset)\n",
    "- Generate your own data (useful for testing ideas)\n",
    "- Aggregate sources (complex)\n",
    "\n",
    "A **data set** is a homogeneous collection of data.\n"
   ]
  },
  {
   "cell_type": "markdown",
   "metadata": {
    "slideshow": {
     "slide_type": "slide"
    }
   },
   "source": [
    "*sklearn* comes with datasets included!\n",
    "\n",
    "Datasets are made available in *sklearn.datasets* (see [doc](https://scikit-learn.org/stable/datasets/index.html))\n"
   ]
  },
  {
   "cell_type": "code",
   "execution_count": 6,
   "metadata": {},
   "outputs": [],
   "source": [
    "import sklearn.datasets as datasets"
   ]
  },
  {
   "cell_type": "markdown",
   "metadata": {
    "slideshow": {
     "slide_type": "slide"
    }
   },
   "source": [
    "\n",
    "### Diabetes\n",
    "\n",
    "We load the *diabetes* datataset and separate the data matrix ($X$), the labels ($y$), and the feature names ($fnames$)."
   ]
  },
  {
   "cell_type": "code",
   "execution_count": 7,
   "metadata": {},
   "outputs": [],
   "source": [
    "dataset = datasets.load_diabetes()\n",
    "\n",
    "X_diabetes = dataset['data']\n",
    "y_diabetes = dataset['target']\n",
    "fnames_diabetes = dataset['feature_names']"
   ]
  },
  {
   "cell_type": "markdown",
   "metadata": {},
   "source": [
    "Let's have a look at our data."
   ]
  },
  {
   "cell_type": "code",
   "execution_count": 8,
   "metadata": {},
   "outputs": [
    {
     "data": {
      "text/plain": [
       "(442, 10)"
      ]
     },
     "execution_count": 8,
     "metadata": {},
     "output_type": "execute_result"
    }
   ],
   "source": [
    "X_diabetes.shape"
   ]
  },
  {
   "cell_type": "code",
   "execution_count": 9,
   "metadata": {},
   "outputs": [
    {
     "data": {
      "text/plain": [
       "['age', 'sex', 'bmi', 'bp', 's1', 's2', 's3', 's4', 's5', 's6']"
      ]
     },
     "execution_count": 9,
     "metadata": {},
     "output_type": "execute_result"
    }
   ],
   "source": [
    "fnames_diabetes"
   ]
  },
  {
   "cell_type": "code",
   "execution_count": 10,
   "metadata": {},
   "outputs": [
    {
     "data": {
      "text/plain": [
       "array([151.,  75., 141., 206., 135.,  97., 138.,  63., 110., 310.])"
      ]
     },
     "execution_count": 10,
     "metadata": {},
     "output_type": "execute_result"
    }
   ],
   "source": [
    "y_diabetes[0:10]"
   ]
  },
  {
   "cell_type": "markdown",
   "metadata": {},
   "source": [
    "*diabetes* is a regression dataset: labels are numbers."
   ]
  },
  {
   "cell_type": "markdown",
   "metadata": {
    "slideshow": {
     "slide_type": "slide"
    }
   },
   "source": [
    "As discussed above, the underlying structure of the data matrix $X$ is a table/matrix/tensor."
   ]
  },
  {
   "cell_type": "code",
   "execution_count": 11,
   "metadata": {
    "slideshow": {
     "slide_type": "-"
    }
   },
   "outputs": [
    {
     "data": {
      "text/plain": [
       "array([[ 0.03807591,  0.05068012,  0.06169621,  0.02187235, -0.0442235 ],\n",
       "       [-0.00188202, -0.04464164, -0.05147406, -0.02632783, -0.00844872],\n",
       "       [ 0.08529891,  0.05068012,  0.04445121, -0.00567061, -0.04559945],\n",
       "       [-0.08906294, -0.04464164, -0.01159501, -0.03665645,  0.01219057],\n",
       "       [ 0.00538306, -0.04464164, -0.03638469,  0.02187235,  0.00393485]])"
      ]
     },
     "execution_count": 11,
     "metadata": {},
     "output_type": "execute_result"
    }
   ],
   "source": [
    "X_diabetes[0:5,0:5]"
   ]
  },
  {
   "cell_type": "markdown",
   "metadata": {
    "slideshow": {
     "slide_type": "slide"
    }
   },
   "source": [
    "### Exercise\n",
    "\n",
    "1. What are the features of individual 10?\n",
    "2. What is the age of individual 23? What do you think is the meaning of this value?\n",
    "3. What is the highest value of diabetes?\n",
    "4. Can you compute the average age of all the individuals? What do you think is the meaning of this result?\n",
    "5. What are the values that the variable 'sex' may assume? How do you interpret them?"
   ]
  },
  {
   "cell_type": "markdown",
   "metadata": {
    "slideshow": {
     "slide_type": "slide"
    }
   },
   "source": [
    "Let's have a look at a plot of diabetes as a function of bmi."
   ]
  },
  {
   "cell_type": "code",
   "execution_count": 12,
   "metadata": {},
   "outputs": [
    {
     "data": {
      "text/plain": [
       "Text(0, 0.5, 'diabetes')"
      ]
     },
     "execution_count": 12,
     "metadata": {},
     "output_type": "execute_result"
    },
    {
     "data": {
      "image/png": "[encoded data removed]",
      "text/plain": [
       "<Figure size 432x288 with 1 Axes>"
      ]
     },
     "metadata": {
      "needs_background": "light"
     },
     "output_type": "display_data"
    }
   ],
   "source": [
    "import matplotlib\n",
    "import matplotlib.pyplot as plt\n",
    "\n",
    "plt.scatter(X_diabetes[:,2],y_diabetes)\n",
    "plt.xlabel('body mass index')\n",
    "plt.ylabel('diabetes')"
   ]
  },
  {
   "cell_type": "markdown",
   "metadata": {
    "slideshow": {
     "slide_type": "slide"
    }
   },
   "source": [
    "### Exercise\n",
    "\n",
    "1. What are the observations you can already make from the plot we made?\n",
    "2. Plot now diabetes as a function of age. What do you observe? What insights do you get from this?"
   ]
  },
  {
   "cell_type": "markdown",
   "metadata": {
    "slideshow": {
     "slide_type": "slide"
    }
   },
   "source": [
    "### Iris\n",
    "\n",
    "Let's have a look at the *iris* datataset as well, and separate the data matrix ($X$), the labels ($y$), and the feature names ($fnames$)."
   ]
  },
  {
   "cell_type": "code",
   "execution_count": 13,
   "metadata": {},
   "outputs": [],
   "source": [
    "dataset = datasets.load_iris()\n",
    "\n",
    "X_iris = dataset['data']\n",
    "y_iris = dataset['target']\n",
    "fnames_iris = dataset['feature_names']"
   ]
  },
  {
   "cell_type": "code",
   "execution_count": 14,
   "metadata": {},
   "outputs": [
    {
     "data": {
      "text/plain": [
       "(150, 4)"
      ]
     },
     "execution_count": 14,
     "metadata": {},
     "output_type": "execute_result"
    }
   ],
   "source": [
    "X_iris.shape"
   ]
  },
  {
   "cell_type": "code",
   "execution_count": 15,
   "metadata": {},
   "outputs": [
    {
     "data": {
      "text/plain": [
       "['sepal length (cm)',\n",
       " 'sepal width (cm)',\n",
       " 'petal length (cm)',\n",
       " 'petal width (cm)']"
      ]
     },
     "execution_count": 15,
     "metadata": {},
     "output_type": "execute_result"
    }
   ],
   "source": [
    "fnames_iris"
   ]
  },
  {
   "cell_type": "code",
   "execution_count": 16,
   "metadata": {},
   "outputs": [
    {
     "data": {
      "text/plain": [
       "array([0, 0, 0, 0, 0, 1, 1, 1, 1, 1])"
      ]
     },
     "execution_count": 16,
     "metadata": {},
     "output_type": "execute_result"
    }
   ],
   "source": [
    "y_iris[45:55]"
   ]
  },
  {
   "cell_type": "markdown",
   "metadata": {},
   "source": [
    "*iris* is a regression dataset: labels are categories."
   ]
  },
  {
   "cell_type": "markdown",
   "metadata": {
    "slideshow": {
     "slide_type": "slide"
    }
   },
   "source": [
    "As discussed above, the underlying structure of the data matrix $X$ is a table/matrix/tensor."
   ]
  },
  {
   "cell_type": "code",
   "execution_count": 17,
   "metadata": {},
   "outputs": [
    {
     "data": {
      "text/plain": [
       "array([[5.1, 3.5, 1.4, 0.2],\n",
       "       [4.9, 3. , 1.4, 0.2],\n",
       "       [4.7, 3.2, 1.3, 0.2],\n",
       "       [4.6, 3.1, 1.5, 0.2],\n",
       "       [5. , 3.6, 1.4, 0.2]])"
      ]
     },
     "execution_count": 17,
     "metadata": {},
     "output_type": "execute_result"
    }
   ],
   "source": [
    "X_iris[0:5,0:5]"
   ]
  },
  {
   "cell_type": "markdown",
   "metadata": {
    "slideshow": {
     "slide_type": "slide"
    }
   },
   "source": [
    "### Exercise\n",
    "\n",
    "1. What are the features of sample 21?\n",
    "2. How many labels do we have?\n",
    "3. What is the maximum and minimum value of petal length?\n",
    "4. Is there a different in how the values of petal length in *iris* are recorded compared to the values of age in *diabetes*?"
   ]
  },
  {
   "cell_type": "markdown",
   "metadata": {
    "slideshow": {
     "slide_type": "slide"
    }
   },
   "source": [
    "Let's have a look at a how the labels depend on petal length and petal width."
   ]
  },
  {
   "cell_type": "code",
   "execution_count": 18,
   "metadata": {},
   "outputs": [
    {
     "data": {
      "text/plain": [
       "Text(0, 0.5, 'petal width')"
      ]
     },
     "execution_count": 18,
     "metadata": {},
     "output_type": "execute_result"
    },
    {
     "data": {
      "image/png": "[encoded data removed]",
      "text/plain": [
       "<Figure size 432x288 with 1 Axes>"
      ]
     },
     "metadata": {
      "needs_background": "light"
     },
     "output_type": "display_data"
    }
   ],
   "source": [
    "colors = ['blue', 'green', 'red']\n",
    "\n",
    "plt.scatter(X_iris[:,2],X_iris[:,3],c=y_iris, cmap=matplotlib.colors.ListedColormap(colors))\n",
    "plt.xlabel('petal length')\n",
    "plt.ylabel('petal width')"
   ]
  },
  {
   "cell_type": "markdown",
   "metadata": {
    "slideshow": {
     "slide_type": "slide"
    }
   },
   "source": [
    "### Exercise\n",
    "\n",
    "1. What are the observations you can already make from the plot we made?\n",
    "2. Plot now the same graph using different feature, for example, sepal length and petal width. What insights do you get from this?"
   ]
  },
  {
   "cell_type": "markdown",
   "metadata": {
    "slideshow": {
     "slide_type": "slide"
    }
   },
   "source": [
    "## Data partitioning\n",
    "\n",
    "As explained, it is important to divide the data between *training* and *test* data.\n",
    "\n",
    "Sometimes, you are given data already partitioned. Sometimes, you have to partition it yourself."
   ]
  },
  {
   "cell_type": "markdown",
   "metadata": {
    "slideshow": {
     "slide_type": "slide"
    }
   },
   "source": [
    "We now divide both *diabetes* and *iris* data in two sets. \n",
    "\n",
    "Before dividing the data, we randomly shuffle it. Notice we apply the same shuffling to data and labels to keep them aligned."
   ]
  },
  {
   "cell_type": "code",
   "execution_count": 19,
   "metadata": {},
   "outputs": [],
   "source": [
    "diabetes_shuffle = np.random.permutation(X_diabetes.shape[0])\n",
    "iris_shuffle = np.random.permutation(X_iris.shape[0])"
   ]
  },
  {
   "cell_type": "code",
   "execution_count": 20,
   "metadata": {},
   "outputs": [],
   "source": [
    "X_diabetes = X_diabetes[diabetes_shuffle]\n",
    "y_diabetes = y_diabetes[diabetes_shuffle]\n",
    "\n",
    "X_iris = X_iris[iris_shuffle]\n",
    "y_iris = y_iris[iris_shuffle]"
   ]
  },
  {
   "cell_type": "markdown",
   "metadata": {},
   "source": [
    "We keep roughly 80% of the samples for training and 20% for testing."
   ]
  },
  {
   "cell_type": "code",
   "execution_count": 21,
   "metadata": {},
   "outputs": [],
   "source": [
    "Xtr_diabetes = X_diabetes[0:350,:]\n",
    "ytr_diabetes = y_diabetes[0:350]\n",
    "Xte_diabetes = X_diabetes[350:,:]\n",
    "yte_diabetes = y_diabetes[350:]\n",
    "\n",
    "Xtr_iris = X_iris[0:120,:]\n",
    "ytr_iris = y_iris[0:120]\n",
    "Xte_iris = X_iris[120:,:]\n",
    "yte_iris = y_iris[120:]"
   ]
  },
  {
   "cell_type": "markdown",
   "metadata": {
    "slideshow": {
     "slide_type": "slide"
    }
   },
   "source": [
    "We have now divided the data. Look how the dimensions match."
   ]
  },
  {
   "cell_type": "code",
   "execution_count": 22,
   "metadata": {},
   "outputs": [
    {
     "name": "stdout",
     "output_type": "stream",
     "text": [
      "(442, 10)\n",
      "(350, 10)\n",
      "(92, 10)\n"
     ]
    }
   ],
   "source": [
    "print(X_diabetes.shape)\n",
    "print(Xtr_diabetes.shape)\n",
    "print(Xte_diabetes.shape)"
   ]
  },
  {
   "cell_type": "code",
   "execution_count": 23,
   "metadata": {},
   "outputs": [
    {
     "name": "stdout",
     "output_type": "stream",
     "text": [
      "(150, 4)\n",
      "(120, 4)\n",
      "(30, 4)\n"
     ]
    }
   ],
   "source": [
    "print(X_iris.shape)\n",
    "print(Xtr_iris.shape)\n",
    "print(Xte_iris.shape)"
   ]
  },
  {
   "cell_type": "markdown",
   "metadata": {
    "slideshow": {
     "slide_type": "slide"
    }
   },
   "source": [
    "From this moment on, it is very important that **knowledge in the test dataset does NOT flow into your modeling process**!\n",
    "\n",
    "More sophisticated approaches may require to partition the dataset in more than two parts."
   ]
  },
  {
   "cell_type": "markdown",
   "metadata": {
    "slideshow": {
     "slide_type": "slide"
    }
   },
   "source": [
    "### Exercise\n",
    "\n",
    "1. Try to partition the datasets putting 90% of the data into the training set and 10% of the data into the test set.\n",
    "2. Try to partition the datasets into three sets with percentages 70%, 20% and 10%."
   ]
  },
  {
   "cell_type": "markdown",
   "metadata": {
    "slideshow": {
     "slide_type": "slide"
    }
   },
   "source": [
    "## Data pre-processing\n",
    "\n",
    "Before feeding your data you may want to **pre-process** it:\n",
    "- Delete otuliers\n",
    "- Fix missing values\n",
    "- Makes unit homogeneous\n",
    "- Sub-select some features of interest (*remove redundant features*)\n",
    "- Combine together features\n",
    "- Perform smart transformations (*whitening*, *Fourier*)\n",
    "\n",
    "Pre-processing are transformation you apply to the data because you know they are useful.\n",
    "\n",
    "Some forms of preprocessing have specifing names such as **feature selection**, **feature extraction**, **imputation of missing values**..."
   ]
  },
  {
   "cell_type": "markdown",
   "metadata": {
    "slideshow": {
     "slide_type": "slide"
    }
   },
   "source": [
    "*sklearn* comes with preprocessing functionalities included!\n",
    "\n",
    "Basic preprocessing is made available in *sklearn.preprocessing* (see [doc](https://scikit-learn.org/stable/modules/preprocessing.html)).\n",
    "\n",
    "Other preprocessing module are *sklearn.feature_selection* (see [doc](https://scikit-learn.org/stable/modules/feature_selection.html#feature-selection)), *sklearn.feature_extraction* (see [doc](https://scikit-learn.org/stable/modules/feature_extraction.html#feature-extraction)), or *sklearn.feature_impute* (see [doc](https://scikit-learn.org/stable/modules/impute.html))."
   ]
  },
  {
   "cell_type": "code",
   "execution_count": 24,
   "metadata": {},
   "outputs": [],
   "source": [
    "import sklearn.preprocessing as preproc"
   ]
  },
  {
   "cell_type": "markdown",
   "metadata": {
    "slideshow": {
     "slide_type": "slide"
    }
   },
   "source": [
    "### Feature removal/addition\n",
    "\n",
    "The simplest preprocessing you can imagine is removing or adding features.\n",
    "\n",
    "Let us create a copy of the *diabetes* data were we exclude the age feature."
   ]
  },
  {
   "cell_type": "code",
   "execution_count": 25,
   "metadata": {
    "slideshow": {
     "slide_type": "slide"
    }
   },
   "outputs": [
    {
     "name": "stdout",
     "output_type": "stream",
     "text": [
      "[[-0.04464164 -0.02129532  0.0872869   0.04521344  0.03156671 -0.04708248\n",
      "   0.07120998  0.07912108  0.13561183]\n",
      " [ 0.05068012  0.03043966  0.08384403 -0.03734373 -0.0473467   0.01550536\n",
      "  -0.03949338  0.00864028  0.01549073]\n",
      " [-0.04464164 -0.03530688 -0.02977071 -0.05660707 -0.05862005  0.03023191\n",
      "  -0.03949338 -0.04986847 -0.12948301]\n",
      " [-0.04464164  0.05415152 -0.06649466  0.07273249  0.05661859 -0.04340085\n",
      "   0.08486339  0.08449528  0.04862759]\n",
      " [-0.04464164  0.00457217  0.04597245 -0.01808039 -0.05454912  0.06336665\n",
      "  -0.03949338  0.02866072  0.06105391]\n",
      " [-0.04464164 -0.01267283 -0.06075654 -0.00019301  0.00808058  0.01182372\n",
      "  -0.00259226 -0.02712865 -0.05078298]\n",
      " [-0.04464164 -0.0191397   0.02187235  0.02732605 -0.01352667  0.10018303\n",
      "  -0.03949338  0.01776348 -0.01350402]\n",
      " [ 0.05068012 -0.02237314 -0.02977071  0.01081462  0.02843523 -0.02131102\n",
      "   0.03430886 -0.00608025 -0.0010777 ]\n",
      " [-0.04464164 -0.03422907  0.05515344  0.06722868  0.0741549  -0.00658447\n",
      "   0.03283281  0.02472532  0.06933812]\n",
      " [-0.04464164 -0.00081689 -0.02632783  0.01081462  0.00714113  0.0486401\n",
      "  -0.03949338 -0.03581673  0.01963284]]\n"
     ]
    }
   ],
   "source": [
    "X_diabetes2 = X_diabetes[:,1:]\n",
    "print(X_diabetes2[0:10,:])"
   ]
  },
  {
   "cell_type": "markdown",
   "metadata": {
    "slideshow": {
     "slide_type": "slide"
    }
   },
   "source": [
    "### Exercise\n",
    "\n",
    "1. Can you see why removing a feature may make sense?\n",
    "2. When does it not make sense to remove a feature?\n",
    "3. Do you think that in the case of the *diabetes* dataset does it make sense to remove age?\n",
    "4. Create a new dataset *X_{diabetes3}* made up only by the bmi and bp variable."
   ]
  },
  {
   "cell_type": "markdown",
   "metadata": {
    "slideshow": {
     "slide_type": "slide"
    }
   },
   "source": [
    "\n",
    "Alternatively, we may introduce new features combining existing features.\n",
    "\n",
    "We will add to the *diabetes* data a new variable given by the product of s1 and s4.\n"
   ]
  },
  {
   "cell_type": "code",
   "execution_count": 26,
   "metadata": {},
   "outputs": [
    {
     "data": {
      "text/plain": [
       "(442, 11)"
      ]
     },
     "execution_count": 26,
     "metadata": {},
     "output_type": "execute_result"
    }
   ],
   "source": [
    "X_diabetes4 = X_diabetes.copy()\n",
    "X_diabetes4 = np.hstack((X_diabetes4, np.expand_dims(X_diabetes4[:,4]*X_diabetes4[:,7],axis=1)))\n",
    "X_diabetes4.shape"
   ]
  },
  {
   "cell_type": "code",
   "execution_count": 27,
   "metadata": {},
   "outputs": [
    {
     "name": "stdout",
     "output_type": "stream",
     "text": [
      "[[-0.04464164 -0.02129532  0.0872869   0.04521344  0.03156671 -0.04708248\n",
      "   0.07120998  0.07912108  0.13561183]\n",
      " [ 0.05068012  0.03043966  0.08384403 -0.03734373 -0.0473467   0.01550536\n",
      "  -0.03949338  0.00864028  0.01549073]\n",
      " [-0.04464164 -0.03530688 -0.02977071 -0.05660707 -0.05862005  0.03023191\n",
      "  -0.03949338 -0.04986847 -0.12948301]\n",
      " [-0.04464164  0.05415152 -0.06649466  0.07273249  0.05661859 -0.04340085\n",
      "   0.08486339  0.08449528  0.04862759]\n",
      " [-0.04464164  0.00457217  0.04597245 -0.01808039 -0.05454912  0.06336665\n",
      "  -0.03949338  0.02866072  0.06105391]\n",
      " [-0.04464164 -0.01267283 -0.06075654 -0.00019301  0.00808058  0.01182372\n",
      "  -0.00259226 -0.02712865 -0.05078298]\n",
      " [-0.04464164 -0.0191397   0.02187235  0.02732605 -0.01352667  0.10018303\n",
      "  -0.03949338  0.01776348 -0.01350402]\n",
      " [ 0.05068012 -0.02237314 -0.02977071  0.01081462  0.02843523 -0.02131102\n",
      "   0.03430886 -0.00608025 -0.0010777 ]\n",
      " [-0.04464164 -0.03422907  0.05515344  0.06722868  0.0741549  -0.00658447\n",
      "   0.03283281  0.02472532  0.06933812]\n",
      " [-0.04464164 -0.00081689 -0.02632783  0.01081462  0.00714113  0.0486401\n",
      "  -0.03949338 -0.03581673  0.01963284]]\n"
     ]
    }
   ],
   "source": [
    "print(X_diabetes2[0:10,:])"
   ]
  },
  {
   "cell_type": "markdown",
   "metadata": {
    "slideshow": {
     "slide_type": "slide"
    }
   },
   "source": [
    "### Exercise\n",
    "\n",
    "1. Can you see why combining features may make sense?\n",
    "2. Create a new dataset *X_{diabetes4}* adding two new features: (i) s1+s2+s3+s4+s5, (ii) bm / bp.\n",
    "3. Any formal concern with generating the new feature (ii)?"
   ]
  },
  {
   "cell_type": "markdown",
   "metadata": {
    "slideshow": {
     "slide_type": "slide"
    }
   },
   "source": [
    "In general, it will be probably rare for you to add or delete features by considering their meaning.\n",
    "\n",
    "Normally features are meaningful, and, in general, you don't want to discard information.\n",
    "\n",
    "More refined methods may be used to manipulate/change/redesign features.\n",
    "\n",
    "Yet, you should **always think if what you are doing makes sense**!"
   ]
  },
  {
   "cell_type": "markdown",
   "metadata": {
    "slideshow": {
     "slide_type": "slide"
    }
   },
   "source": [
    "### Feature Scaling\n",
    "\n",
    "*Scaling* allows to rescale features in a given interval.\n",
    "\n",
    "Let us consider the first ten samples on the *iris* data and rescale them."
   ]
  },
  {
   "cell_type": "code",
   "execution_count": 28,
   "metadata": {},
   "outputs": [
    {
     "name": "stdout",
     "output_type": "stream",
     "text": [
      "[[5.7 2.8 4.1 1.3]\n",
      " [4.7 3.2 1.6 0.2]\n",
      " [6.3 2.5 5.  1.9]\n",
      " [5.6 2.7 4.2 1.3]\n",
      " [6.  2.9 4.5 1.5]\n",
      " [5.1 3.5 1.4 0.3]\n",
      " [7.1 3.  5.9 2.1]\n",
      " [5.4 3.9 1.3 0.4]\n",
      " [6.1 2.9 4.7 1.4]\n",
      " [7.  3.2 4.7 1.4]]\n"
     ]
    }
   ],
   "source": [
    "X = X_iris[0:10,:].copy()\n",
    "print(X)"
   ]
  },
  {
   "cell_type": "code",
   "execution_count": 29,
   "metadata": {},
   "outputs": [
    {
     "name": "stdout",
     "output_type": "stream",
     "text": [
      "[[-0.27420425 -0.67042381  0.22757478  0.19127301]\n",
      " [-1.64522549  0.36099744 -1.35280565 -1.56206295]\n",
      " [ 0.5484085  -1.44398974  0.79651174  1.14763808]\n",
      " [-0.41130637 -0.92827912  0.29079     0.19127301]\n",
      " [ 0.13710212 -0.4125685   0.48043565  0.51006137]\n",
      " [-1.09681699  1.13456337 -1.47923608 -1.40266877]\n",
      " [ 1.64522549 -0.15471319  1.36544869  1.46642644]\n",
      " [-0.68551062  2.16598462 -1.5424513  -1.24327459]\n",
      " [ 0.27420425 -0.4125685   0.60686608  0.35066719]\n",
      " [ 1.50812337  0.36099744  0.60686608  0.35066719]]\n"
     ]
    }
   ],
   "source": [
    "X_scaled = preproc.scale(X)\n",
    "print(X_scaled)"
   ]
  },
  {
   "cell_type": "markdown",
   "metadata": {
    "slideshow": {
     "slide_type": "slide"
    }
   },
   "source": [
    "### Exercise\n",
    "\n",
    "1. Check the mean of each column in $X$ and $X_{scaled}$. What do you observe?\n",
    "2. Can you guess why such a transformation would make sense?"
   ]
  },
  {
   "cell_type": "markdown",
   "metadata": {
    "slideshow": {
     "slide_type": "slide"
    }
   },
   "source": [
    "## Model fitting\n",
    "\n",
    "Next, we actually apply a **model** to the data.\n",
    "\n",
    "Depending on what you are doing there are many available models:\n",
    "- Supervised learning\n",
    "    - linear regression\n",
    "    - quadratic regression\n",
    "    - logistic regression\n",
    "    - k-nearest neighbours\n",
    "    - classification trees\n",
    "    - neural networks\n",
    "    - ...\n",
    "- Unsupervised learning\n",
    "    - principal component analysis\n",
    "    - k-means\n",
    "    - autoencoders\n",
    "    - Gaussian mixture models\n",
    "    - ...\n",
    "    \n",
    "You find all these models in *sklearn*!"
   ]
  },
  {
   "cell_type": "markdown",
   "metadata": {
    "slideshow": {
     "slide_type": "slide"
    }
   },
   "source": [
    "*sklearn* provides a simple and neat interface to all the models:\n",
    "\n",
    "1. Choose your model\n",
    "2. Instantiate the model\n",
    "3. Fit the model to your training data using the *fit()* function\n",
    "4. Apply the model to your test data using the *predict()* function (in supervised learning) or *transform()* function (in unsupervised learning).\n",
    "\n",
    "**The most important step here is step 1!**"
   ]
  },
  {
   "cell_type": "markdown",
   "metadata": {
    "slideshow": {
     "slide_type": "slide"
    }
   },
   "source": [
    "### Linear Regression\n",
    "\n",
    "In linear regression, we try to predict a continuous value from (a set of) other values by combining them linearly.\n",
    "\n",
    "Let us consider the *diabetes* data set. For illustration, we will try to *regress* the diabetes index on the bmi feature. (We now use only one feature as an example)"
   ]
  },
  {
   "cell_type": "markdown",
   "metadata": {
    "slideshow": {
     "slide_type": "slide"
    }
   },
   "source": [
    "We first subselect our data."
   ]
  },
  {
   "cell_type": "code",
   "execution_count": 30,
   "metadata": {},
   "outputs": [],
   "source": [
    "Xtr_linregr = np.expand_dims(Xtr_diabetes[:,2],axis=1)\n",
    "ytr_linregr = ytr_diabetes\n",
    "\n",
    "Xte_linregr = np.expand_dims(Xte_diabetes[:,2],axis=1)\n",
    "yte_linregr = yte_diabetes"
   ]
  },
  {
   "cell_type": "markdown",
   "metadata": {
    "slideshow": {
     "slide_type": "slide"
    }
   },
   "source": [
    "We apply the model."
   ]
  },
  {
   "cell_type": "code",
   "execution_count": 31,
   "metadata": {},
   "outputs": [],
   "source": [
    "import sklearn.linear_model as lm\n",
    "\n",
    "model = lm.LinearRegression()"
   ]
  },
  {
   "cell_type": "code",
   "execution_count": 32,
   "metadata": {},
   "outputs": [
    {
     "data": {
      "text/plain": [
       "LinearRegression()"
      ]
     },
     "execution_count": 32,
     "metadata": {},
     "output_type": "execute_result"
    }
   ],
   "source": [
    "model.fit(Xtr_linregr,ytr_linregr)"
   ]
  },
  {
   "cell_type": "code",
   "execution_count": 33,
   "metadata": {},
   "outputs": [],
   "source": [
    "yhat_linregr1 = model.predict(Xte_linregr)"
   ]
  },
  {
   "cell_type": "markdown",
   "metadata": {},
   "source": [
    "Now $\\hat{y}$ are the prediction of our model. We can compare them with the ground truth ($y_{te}$)"
   ]
  },
  {
   "cell_type": "code",
   "execution_count": 34,
   "metadata": {
    "scrolled": true
   },
   "outputs": [
    {
     "name": "stdout",
     "output_type": "stream",
     "text": [
      "[ 52.  96.  95. 275.  71. 146. 174. 229. 206.  72.]\n",
      "[189.38354536  90.27701318 144.33512165 220.41690393 129.31898041\n",
      " 117.30606741 159.35126289 152.34373031 140.33081732 113.30176308]\n"
     ]
    }
   ],
   "source": [
    "print(yte_linregr[0:10])\n",
    "print(yhat_linregr1[0:10])"
   ]
  },
  {
   "cell_type": "markdown",
   "metadata": {
    "slideshow": {
     "slide_type": "slide"
    }
   },
   "source": [
    "Let see exactly what our model is."
   ]
  },
  {
   "cell_type": "code",
   "execution_count": 35,
   "metadata": {},
   "outputs": [
    {
     "data": {
      "text/plain": [
       "Text(0, 0.5, 'diabetes')"
      ]
     },
     "execution_count": 35,
     "metadata": {},
     "output_type": "execute_result"
    },
    {
     "data": {
      "image/png": "[encoded data removed]",
      "text/plain": [
       "<Figure size 432x288 with 1 Axes>"
      ]
     },
     "metadata": {
      "needs_background": "light"
     },
     "output_type": "display_data"
    }
   ],
   "source": [
    "plt.scatter(X_diabetes[:,2],y_diabetes)\n",
    "\n",
    "xs = np.arange(-.10,.15,.01)\n",
    "plt.plot(xs, model.predict(np.expand_dims(xs,axis=1)),c='red')\n",
    "\n",
    "plt.xlabel('body mass index')\n",
    "plt.ylabel('diabetes')"
   ]
  },
  {
   "cell_type": "markdown",
   "metadata": {
    "slideshow": {
     "slide_type": "slide"
    }
   },
   "source": [
    "We don't have to use only one feature in the linear regression model. We can use all of them."
   ]
  },
  {
   "cell_type": "code",
   "execution_count": 36,
   "metadata": {},
   "outputs": [],
   "source": [
    "model = lm.LinearRegression()\n",
    "model.fit(Xtr_diabetes,ytr_diabetes)\n",
    "yhat_linregr2 = model.predict(Xte_diabetes)"
   ]
  },
  {
   "cell_type": "markdown",
   "metadata": {},
   "source": [
    "Let's check the predictions againt the ground truth:"
   ]
  },
  {
   "cell_type": "code",
   "execution_count": 37,
   "metadata": {},
   "outputs": [
    {
     "name": "stdout",
     "output_type": "stream",
     "text": [
      "[ 52.  96.  95. 275.  71. 146. 174. 229. 206.  72.]\n",
      "[189.38354536  90.27701318 144.33512165 220.41690393 129.31898041\n",
      " 117.30606741 159.35126289 152.34373031 140.33081732 113.30176308]\n",
      "[210.17699391  86.57527179 148.07989733 233.42081534 111.40304057\n",
      " 138.09385015 175.67430121 190.84833912 169.31358364 110.5544537 ]\n"
     ]
    }
   ],
   "source": [
    "print(yte_diabetes[0:10])\n",
    "print(yhat_linregr1[0:10])\n",
    "print(yhat_linregr2[0:10])"
   ]
  },
  {
   "cell_type": "markdown",
   "metadata": {},
   "source": [
    "We will see how to evaluate properly later, but you already see that considering more features improved the results.\n",
    "\n",
    "Unfortunately it is now unfeasible to plot the data considering all the features!"
   ]
  },
  {
   "cell_type": "markdown",
   "metadata": {
    "slideshow": {
     "slide_type": "slide"
    }
   },
   "source": [
    "### Exercise\n",
    "\n",
    "1. What do you think are the limitation of this model?\n",
    "2. What do you think are the strength of this model?\n",
    "3. Try to regress the diabetes index on age. What do you observe?"
   ]
  },
  {
   "cell_type": "markdown",
   "metadata": {
    "slideshow": {
     "slide_type": "slide"
    }
   },
   "source": [
    "### Logistic Regression \n",
    "In logistic regression, we try to predict a category from (a set of) other values, again by combining them linearly.\n",
    "\n",
    "Let us consider the *iris* data set. For illustration, we will try to classify data from two classes using sepal width and sepal length."
   ]
  },
  {
   "cell_type": "markdown",
   "metadata": {
    "slideshow": {
     "slide_type": "slide"
    }
   },
   "source": [
    "We first subselect the data we will work with."
   ]
  },
  {
   "cell_type": "code",
   "execution_count": 38,
   "metadata": {},
   "outputs": [],
   "source": [
    "selection_tr = ytr_iris<2\n",
    "selection_te = yte_iris<2\n",
    "\n",
    "Xtr_logregr = Xtr_iris[selection_tr,0:2]\n",
    "ytr_logregr = ytr_iris[selection_tr]\n",
    "Xte_logregr = Xte_iris[selection_te,0:2]\n",
    "yte_logregr = yte_iris[selection_te]"
   ]
  },
  {
   "cell_type": "markdown",
   "metadata": {},
   "source": [
    "Notice that our data has decreased"
   ]
  },
  {
   "cell_type": "code",
   "execution_count": 39,
   "metadata": {},
   "outputs": [
    {
     "name": "stdout",
     "output_type": "stream",
     "text": [
      "(77, 2)\n",
      "(23, 2)\n"
     ]
    }
   ],
   "source": [
    "print(Xtr_logregr.shape)\n",
    "print(Xte_logregr.shape)"
   ]
  },
  {
   "cell_type": "markdown",
   "metadata": {
    "slideshow": {
     "slide_type": "slide"
    }
   },
   "source": [
    "We apply the model."
   ]
  },
  {
   "cell_type": "code",
   "execution_count": 40,
   "metadata": {},
   "outputs": [],
   "source": [
    "model = lm.LogisticRegression()"
   ]
  },
  {
   "cell_type": "code",
   "execution_count": 41,
   "metadata": {},
   "outputs": [
    {
     "data": {
      "text/plain": [
       "LogisticRegression()"
      ]
     },
     "execution_count": 41,
     "metadata": {},
     "output_type": "execute_result"
    }
   ],
   "source": [
    "model.fit(Xtr_logregr,ytr_logregr)"
   ]
  },
  {
   "cell_type": "code",
   "execution_count": 42,
   "metadata": {},
   "outputs": [],
   "source": [
    "yhat_logregr = model.predict(Xte_logregr)"
   ]
  },
  {
   "cell_type": "markdown",
   "metadata": {},
   "source": [
    "Now $\\hat{y}$ are the prediction of our model. We can compare them with the ground truth ($y_{te}$)"
   ]
  },
  {
   "cell_type": "code",
   "execution_count": 43,
   "metadata": {
    "scrolled": true
   },
   "outputs": [
    {
     "name": "stdout",
     "output_type": "stream",
     "text": [
      "[0 0 1 0 1 1 0 0 1 0]\n",
      "[0 0 1 0 1 1 0 0 1 0]\n"
     ]
    }
   ],
   "source": [
    "print(yte_logregr[0:10])\n",
    "print(yhat_logregr[0:10])"
   ]
  },
  {
   "cell_type": "markdown",
   "metadata": {
    "slideshow": {
     "slide_type": "slide"
    }
   },
   "source": [
    "Let see exactly what our model is."
   ]
  },
  {
   "cell_type": "code",
   "execution_count": 44,
   "metadata": {},
   "outputs": [
    {
     "data": {
      "text/plain": [
       "Text(0, 0.5, 'sepal width (cm)')"
      ]
     },
     "execution_count": 44,
     "metadata": {},
     "output_type": "execute_result"
    },
    {
     "data": {
      "image/png": "[encoded data removed]",
      "text/plain": [
       "<Figure size 432x288 with 1 Axes>"
      ]
     },
     "metadata": {
      "needs_background": "light"
     },
     "output_type": "display_data"
    }
   ],
   "source": [
    "plt.scatter(Xtr_logregr[:,0],Xtr_logregr[:,1],c=ytr_logregr, cmap=matplotlib.colors.ListedColormap(colors))\n",
    "\n",
    "xs = np.arange(4,7,.01)\n",
    "line_bias = model.intercept_\n",
    "line_w = model.coef_.T\n",
    "ys=[(line_w[0]*x+line_bias)/(-1*line_w[1]) for x in xs]\n",
    "plt.plot(xs, ys, c='black')\n",
    "\n",
    "plt.xlabel('sepal length (cm)')\n",
    "plt.ylabel('sepal width (cm)')"
   ]
  },
  {
   "cell_type": "markdown",
   "metadata": {
    "slideshow": {
     "slide_type": "slide"
    }
   },
   "source": [
    "### Exercise\n",
    "\n",
    "1. What is the difference between the line we plotted for linear regression and the line we plotted for logistic regression?\n",
    "2. As in the case of linear regression, logistic regression is not limited to two features. Run the logistic regression algorithm using all four features.\n",
    "3. Logistic regression can deal with more than two classes. Run the logistic regression algorithm using all four features, and considering three classes."
   ]
  },
  {
   "cell_type": "markdown",
   "metadata": {
    "slideshow": {
     "slide_type": "slide"
    }
   },
   "source": [
    "### k-means\n",
    "\n",
    "Let us now suppose we were given the *iris* **without labels**.\n",
    "\n",
    "With k-measn, we try to group together samples that are similar to each other.\n",
    "\n",
    "For illustration, again we will work only with data from two classes, but this time we will use features petal width and petal length."
   ]
  },
  {
   "cell_type": "markdown",
   "metadata": {
    "slideshow": {
     "slide_type": "slide"
    }
   },
   "source": [
    "We first subselect the data we will work with."
   ]
  },
  {
   "cell_type": "code",
   "execution_count": 45,
   "metadata": {},
   "outputs": [],
   "source": [
    "selection_tr = ytr_iris<2\n",
    "selection_te = yte_iris<2\n",
    "\n",
    "Xtr_kmeans = Xtr_iris[selection_tr,2:4]\n",
    "Xte_kmeans = Xte_iris[selection_te,2:4]"
   ]
  },
  {
   "cell_type": "markdown",
   "metadata": {},
   "source": [
    "Notice we are not keeping labels anymore."
   ]
  },
  {
   "cell_type": "markdown",
   "metadata": {
    "slideshow": {
     "slide_type": "slide"
    }
   },
   "source": [
    "We apply the model."
   ]
  },
  {
   "cell_type": "code",
   "execution_count": 46,
   "metadata": {},
   "outputs": [],
   "source": [
    "import sklearn.cluster as ul\n",
    "\n",
    "model = ul.KMeans(n_clusters=2)"
   ]
  },
  {
   "cell_type": "markdown",
   "metadata": {},
   "source": [
    "Notice that models may have their own specific parameters. In this case, we need to specify in how many groups we want to cluster the data."
   ]
  },
  {
   "cell_type": "code",
   "execution_count": 47,
   "metadata": {},
   "outputs": [
    {
     "data": {
      "text/plain": [
       "KMeans(n_clusters=2)"
      ]
     },
     "execution_count": 47,
     "metadata": {},
     "output_type": "execute_result"
    }
   ],
   "source": [
    "model.fit(Xtr_kmeans)"
   ]
  },
  {
   "cell_type": "markdown",
   "metadata": {},
   "source": [
    "Since we had no labels, we can start looking how the training data were grouped."
   ]
  },
  {
   "cell_type": "code",
   "execution_count": 48,
   "metadata": {},
   "outputs": [],
   "source": [
    "yhat_kmeans = model.predict(Xtr_kmeans)"
   ]
  },
  {
   "cell_type": "markdown",
   "metadata": {},
   "source": [
    "$\\hat{y}$ constitute a sort of label that we learned with no supervision."
   ]
  },
  {
   "cell_type": "markdown",
   "metadata": {
    "slideshow": {
     "slide_type": "slide"
    }
   },
   "source": [
    "Let see exactly what our model is."
   ]
  },
  {
   "cell_type": "code",
   "execution_count": 49,
   "metadata": {},
   "outputs": [
    {
     "data": {
      "text/plain": [
       "Text(0, 0.5, 'petal width (cm)')"
      ]
     },
     "execution_count": 49,
     "metadata": {},
     "output_type": "execute_result"
    },
    {
     "data": {
      "image/png": "[encoded data removed]",
      "text/plain": [
       "<Figure size 432x288 with 1 Axes>"
      ]
     },
     "metadata": {
      "needs_background": "light"
     },
     "output_type": "display_data"
    }
   ],
   "source": [
    "plt.scatter(Xtr_kmeans[:,0],Xtr_kmeans[:,1],c=yhat_kmeans, cmap=matplotlib.colors.ListedColormap(colors))\n",
    "\n",
    "plt.xlabel('petal length (cm)')\n",
    "plt.ylabel('petal width (cm)')"
   ]
  },
  {
   "cell_type": "markdown",
   "metadata": {
    "slideshow": {
     "slide_type": "slide"
    }
   },
   "source": [
    "### Exercise\n",
    "\n",
    "1. K-means group together points that are similar. How is this similarity defined?\n",
    "2. Is the result we obtained satisfactory?\n",
    "3. Re-run the k-means algorithm initializing it with 3 clusters. What do you observe in the results?\n",
    "4. What if you run the algorithms initializing it with 4 or 5 clusters? What generic observations can you make on the number of clusters?\n",
    "5. Change the selected features, and run the algorithm again. Are the result still satisfactory?"
   ]
  },
  {
   "cell_type": "markdown",
   "metadata": {
    "slideshow": {
     "slide_type": "slide"
    }
   },
   "source": [
    "### Decision trees\n",
    "\n",
    "Decision trees predict a category by observing the features and taking binary decisions.\n",
    "\n",
    "We will illustrate decision trees on the whole *iris* dataset."
   ]
  },
  {
   "cell_type": "markdown",
   "metadata": {
    "slideshow": {
     "slide_type": "slide"
    }
   },
   "source": [
    "We apply the model."
   ]
  },
  {
   "cell_type": "code",
   "execution_count": 50,
   "metadata": {},
   "outputs": [],
   "source": [
    "import sklearn.tree as dt\n",
    "\n",
    "model = dt.DecisionTreeClassifier()"
   ]
  },
  {
   "cell_type": "code",
   "execution_count": 51,
   "metadata": {},
   "outputs": [
    {
     "data": {
      "text/plain": [
       "DecisionTreeClassifier()"
      ]
     },
     "execution_count": 51,
     "metadata": {},
     "output_type": "execute_result"
    }
   ],
   "source": [
    "model.fit(Xtr_iris,ytr_iris)"
   ]
  },
  {
   "cell_type": "code",
   "execution_count": 52,
   "metadata": {},
   "outputs": [],
   "source": [
    "yhat_dtree1 = model.predict(Xte_iris)"
   ]
  },
  {
   "cell_type": "markdown",
   "metadata": {},
   "source": [
    "Now $\\hat{y}$ are the prediction of our model. We can compare them with the ground truth ($y_{te}$)"
   ]
  },
  {
   "cell_type": "code",
   "execution_count": 53,
   "metadata": {
    "scrolled": true
   },
   "outputs": [
    {
     "name": "stdout",
     "output_type": "stream",
     "text": [
      "[2 2 0 2 0 1 0 1 1 0]\n",
      "[2 2 0 2 0 1 0 1 1 0]\n"
     ]
    }
   ],
   "source": [
    "print(yte_iris[0:10])\n",
    "print(yhat_dtree1[0:10])"
   ]
  },
  {
   "cell_type": "markdown",
   "metadata": {
    "slideshow": {
     "slide_type": "slide"
    }
   },
   "source": [
    "Let see exactly what our model is."
   ]
  },
  {
   "cell_type": "code",
   "execution_count": 54,
   "metadata": {},
   "outputs": [
    {
     "name": "stdout",
     "output_type": "stream",
     "text": [
      "|--- petal width (cm) <= 0.80\n",
      "|   |--- class: 0\n",
      "|--- petal width (cm) >  0.80\n",
      "|   |--- petal length (cm) <= 4.85\n",
      "|   |   |--- petal width (cm) <= 1.65\n",
      "|   |   |   |--- class: 1\n",
      "|   |   |--- petal width (cm) >  1.65\n",
      "|   |   |   |--- sepal width (cm) <= 3.10\n",
      "|   |   |   |   |--- class: 2\n",
      "|   |   |   |--- sepal width (cm) >  3.10\n",
      "|   |   |   |   |--- class: 1\n",
      "|   |--- petal length (cm) >  4.85\n",
      "|   |   |--- petal width (cm) <= 1.75\n",
      "|   |   |   |--- petal length (cm) <= 5.35\n",
      "|   |   |   |   |--- petal width (cm) <= 1.55\n",
      "|   |   |   |   |   |--- sepal width (cm) <= 2.95\n",
      "|   |   |   |   |   |   |--- class: 2\n",
      "|   |   |   |   |   |--- sepal width (cm) >  2.95\n",
      "|   |   |   |   |   |   |--- class: 1\n",
      "|   |   |   |   |--- petal width (cm) >  1.55\n",
      "|   |   |   |   |   |--- class: 1\n",
      "|   |   |   |--- petal length (cm) >  5.35\n",
      "|   |   |   |   |--- class: 2\n",
      "|   |   |--- petal width (cm) >  1.75\n",
      "|   |   |   |--- class: 2\n",
      "\n"
     ]
    }
   ],
   "source": [
    "print(dt.export_text(model, feature_names=fnames_iris))"
   ]
  },
  {
   "cell_type": "markdown",
   "metadata": {},
   "source": [
    "This binary tree explains how decisions inside the tree are made."
   ]
  },
  {
   "cell_type": "markdown",
   "metadata": {
    "slideshow": {
     "slide_type": "slide"
    }
   },
   "source": [
    "Let us now apply the regression tree to the *diabetes* dataset, too."
   ]
  },
  {
   "cell_type": "code",
   "execution_count": 55,
   "metadata": {},
   "outputs": [],
   "source": [
    "model = dt.DecisionTreeRegressor()\n",
    "model.fit(Xtr_diabetes,ytr_diabetes)\n",
    "yhat_dtree2 = model.predict(Xte_diabetes)"
   ]
  },
  {
   "cell_type": "code",
   "execution_count": 56,
   "metadata": {},
   "outputs": [
    {
     "name": "stdout",
     "output_type": "stream",
     "text": [
      "|--- bmi <= 0.01\n",
      "|   |--- s5 <= -0.00\n",
      "|   |   |--- s2 <= 0.11\n",
      "|   |   |   |--- s3 <= 0.02\n",
      "|   |   |   |   |--- sex <= 0.00\n",
      "|   |   |   |   |   |--- s1 <= -0.01\n",
      "|   |   |   |   |   |   |--- bmi <= -0.01\n",
      "|   |   |   |   |   |   |   |--- age <= -0.05\n",
      "|   |   |   |   |   |   |   |   |--- bmi <= -0.04\n",
      "|   |   |   |   |   |   |   |   |   |--- s6 <= -0.06\n",
      "|   |   |   |   |   |   |   |   |   |   |--- bp <= -0.06\n",
      "|   |   |   |   |   |   |   |   |   |   |   |--- value: [158.00]\n",
      "|   |   |   |   |   |   |   |   |   |   |--- bp >  -0.06\n",
      "|   |   |   |   |   |   |   |   |   |   |   |--- value: [142.00]\n",
      "|   |   |   |   |   |   |   |   |   |--- s6 >  -0.06\n",
      "|   |   |   |   |   |   |   |   |   |   |--- s2 <= -0.08\n",
      "|   |   |   |   |   |   |   |   |   |   |   |--- value: [101.00]\n",
      "|   |   |   |   |   |   |   |   |   |   |--- s2 >  -0.08\n",
      "|   |   |   |   |   |   |   |   |   |   |   |--- truncated branch of depth 2\n",
      "|   |   |   |   |   |   |   |   |--- bmi >  -0.04\n",
      "|   |   |   |   |   |   |   |   |   |--- s2 <= -0.05\n",
      "|   |   |   |   |   |   |   |   |   |   |--- bp <= -0.03\n",
      "|   |   |   |   |   |   |   |   |   |   |   |--- value: [150.00]\n",
      "|   |   |   |   |   |   |   |   |   |   |--- bp >  -0.03\n",
      "|   |   |   |   |   |   |   |   |   |   |   |--- value: [168.00]\n",
      "|   |   |   |   |   |   |   |   |   |--- s2 >  -0.05\n",
      "|   |   |   |   |   |   |   |   |   |   |--- s5 <= -0.04\n",
      "|   |   |   |   |   |   |   |   |   |   |   |--- value: [200.00]\n",
      "|   |   |   |   |   |   |   |   |   |   |--- s5 >  -0.04\n",
      "|   |   |   |   |   |   |   |   |   |   |   |--- value: [190.00]\n",
      "|   |   |   |   |   |   |   |--- age >  -0.05\n",
      "|   |   |   |   |   |   |   |   |--- s3 <= 0.02\n",
      "|   |   |   |   |   |   |   |   |   |--- bmi <= -0.02\n",
      "|   |   |   |   |   |   |   |   |   |   |--- s3 <= 0.00\n",
      "|   |   |   |   |   |   |   |   |   |   |   |--- truncated branch of depth 4\n",
      "|   |   |   |   |   |   |   |   |   |   |--- s3 >  0.00\n",
      "|   |   |   |   |   |   |   |   |   |   |   |--- truncated branch of depth 2\n",
      "|   |   |   |   |   |   |   |   |   |--- bmi >  -0.02\n",
      "|   |   |   |   |   |   |   |   |   |   |--- s1 <= -0.04\n",
      "|   |   |   |   |   |   |   |   |   |   |   |--- value: [31.00]\n",
      "|   |   |   |   |   |   |   |   |   |   |--- s1 >  -0.04\n",
      "|   |   |   |   |   |   |   |   |   |   |   |--- value: [25.00]\n",
      "|   |   |   |   |   |   |   |   |--- s3 >  0.02\n",
      "|   |   |   |   |   |   |   |   |   |--- bmi <= -0.06\n",
      "|   |   |   |   |   |   |   |   |   |   |--- value: [63.00]\n",
      "|   |   |   |   |   |   |   |   |   |--- bmi >  -0.06\n",
      "|   |   |   |   |   |   |   |   |   |   |--- value: [181.00]\n",
      "|   |   |   |   |   |   |--- bmi >  -0.01\n",
      "|   |   |   |   |   |   |   |--- s4 <= -0.04\n",
      "|   |   |   |   |   |   |   |   |--- value: [155.00]\n",
      "|   |   |   |   |   |   |   |--- s4 >  -0.04\n",
      "|   |   |   |   |   |   |   |   |--- age <= -0.02\n",
      "|   |   |   |   |   |   |   |   |   |--- value: [200.00]\n",
      "|   |   |   |   |   |   |   |   |--- age >  -0.02\n",
      "|   |   |   |   |   |   |   |   |   |--- value: [182.00]\n",
      "|   |   |   |   |   |--- s1 >  -0.01\n",
      "|   |   |   |   |   |   |--- s6 <= 0.04\n",
      "|   |   |   |   |   |   |   |--- bp <= -0.04\n",
      "|   |   |   |   |   |   |   |   |--- s6 <= -0.06\n",
      "|   |   |   |   |   |   |   |   |   |--- value: [128.00]\n",
      "|   |   |   |   |   |   |   |   |--- s6 >  -0.06\n",
      "|   |   |   |   |   |   |   |   |   |--- bp <= -0.06\n",
      "|   |   |   |   |   |   |   |   |   |   |--- value: [160.00]\n",
      "|   |   |   |   |   |   |   |   |   |--- bp >  -0.06\n",
      "|   |   |   |   |   |   |   |   |   |   |--- value: [183.00]\n",
      "|   |   |   |   |   |   |   |--- bp >  -0.04\n",
      "|   |   |   |   |   |   |   |   |--- s6 <= -0.00\n",
      "|   |   |   |   |   |   |   |   |   |--- s5 <= -0.03\n",
      "|   |   |   |   |   |   |   |   |   |   |--- value: [216.00]\n",
      "|   |   |   |   |   |   |   |   |   |--- s5 >  -0.03\n",
      "|   |   |   |   |   |   |   |   |   |   |--- value: [214.00]\n",
      "|   |   |   |   |   |   |   |   |--- s6 >  -0.00\n",
      "|   |   |   |   |   |   |   |   |   |--- value: [230.00]\n",
      "|   |   |   |   |   |   |--- s6 >  0.04\n",
      "|   |   |   |   |   |   |   |--- value: [104.00]\n",
      "|   |   |   |   |--- sex >  0.00\n",
      "|   |   |   |   |   |--- age <= 0.08\n",
      "|   |   |   |   |   |   |--- s3 <= -0.00\n",
      "|   |   |   |   |   |   |   |--- age <= 0.03\n",
      "|   |   |   |   |   |   |   |   |--- bp <= -0.05\n",
      "|   |   |   |   |   |   |   |   |   |--- age <= 0.01\n",
      "|   |   |   |   |   |   |   |   |   |   |--- value: [104.00]\n",
      "|   |   |   |   |   |   |   |   |   |--- age >  0.01\n",
      "|   |   |   |   |   |   |   |   |   |   |--- value: [129.00]\n",
      "|   |   |   |   |   |   |   |   |--- bp >  -0.05\n",
      "|   |   |   |   |   |   |   |   |   |--- s1 <= 0.02\n",
      "|   |   |   |   |   |   |   |   |   |   |--- s1 <= -0.06\n",
      "|   |   |   |   |   |   |   |   |   |   |   |--- truncated branch of depth 5\n",
      "|   |   |   |   |   |   |   |   |   |   |--- s1 >  -0.06\n",
      "|   |   |   |   |   |   |   |   |   |   |   |--- truncated branch of depth 5\n",
      "|   |   |   |   |   |   |   |   |   |--- s1 >  0.02\n",
      "|   |   |   |   |   |   |   |   |   |   |--- value: [111.00]\n",
      "|   |   |   |   |   |   |   |--- age >  0.03\n",
      "|   |   |   |   |   |   |   |   |--- s5 <= -0.02\n",
      "|   |   |   |   |   |   |   |   |   |--- s5 <= -0.04\n",
      "|   |   |   |   |   |   |   |   |   |   |--- value: [132.00]\n",
      "|   |   |   |   |   |   |   |   |   |--- s5 >  -0.04\n",
      "|   |   |   |   |   |   |   |   |   |   |--- bmi <= -0.03\n",
      "|   |   |   |   |   |   |   |   |   |   |   |--- value: [71.00]\n",
      "|   |   |   |   |   |   |   |   |   |   |--- bmi >  -0.03\n",
      "|   |   |   |   |   |   |   |   |   |   |   |--- truncated branch of depth 3\n",
      "|   |   |   |   |   |   |   |   |--- s5 >  -0.02\n",
      "|   |   |   |   |   |   |   |   |   |--- s2 <= -0.02\n",
      "|   |   |   |   |   |   |   |   |   |   |--- s1 <= -0.04\n",
      "|   |   |   |   |   |   |   |   |   |   |   |--- truncated branch of depth 2\n",
      "|   |   |   |   |   |   |   |   |   |   |--- s1 >  -0.04\n",
      "|   |   |   |   |   |   |   |   |   |   |   |--- value: [160.00]\n",
      "|   |   |   |   |   |   |   |   |   |--- s2 >  -0.02\n",
      "|   |   |   |   |   |   |   |   |   |   |--- s1 <= -0.03\n",
      "|   |   |   |   |   |   |   |   |   |   |   |--- value: [77.00]\n",
      "|   |   |   |   |   |   |   |   |   |   |--- s1 >  -0.03\n",
      "|   |   |   |   |   |   |   |   |   |   |   |--- value: [97.00]\n",
      "|   |   |   |   |   |   |--- s3 >  -0.00\n",
      "|   |   |   |   |   |   |   |--- bp <= -0.00\n",
      "|   |   |   |   |   |   |   |   |--- s3 <= 0.01\n",
      "|   |   |   |   |   |   |   |   |   |--- s6 <= -0.03\n",
      "|   |   |   |   |   |   |   |   |   |   |--- value: [138.00]\n",
      "|   |   |   |   |   |   |   |   |   |--- s6 >  -0.03\n",
      "|   |   |   |   |   |   |   |   |   |   |--- bmi <= -0.05\n",
      "|   |   |   |   |   |   |   |   |   |   |   |--- value: [116.00]\n",
      "|   |   |   |   |   |   |   |   |   |   |--- bmi >  -0.05\n",
      "|   |   |   |   |   |   |   |   |   |   |   |--- value: [107.00]\n",
      "|   |   |   |   |   |   |   |   |--- s3 >  0.01\n",
      "|   |   |   |   |   |   |   |   |   |--- bp <= -0.02\n",
      "|   |   |   |   |   |   |   |   |   |   |--- value: [43.00]\n",
      "|   |   |   |   |   |   |   |   |   |--- bp >  -0.02\n",
      "|   |   |   |   |   |   |   |   |   |   |--- bmi <= -0.03\n",
      "|   |   |   |   |   |   |   |   |   |   |   |--- value: [78.00]\n",
      "|   |   |   |   |   |   |   |   |   |   |--- bmi >  -0.03\n",
      "|   |   |   |   |   |   |   |   |   |   |   |--- truncated branch of depth 2\n",
      "|   |   |   |   |   |   |   |--- bp >  -0.00\n",
      "|   |   |   |   |   |   |   |   |--- s3 <= 0.01\n",
      "|   |   |   |   |   |   |   |   |   |--- value: [219.00]\n",
      "|   |   |   |   |   |   |   |   |--- s3 >  0.01\n",
      "|   |   |   |   |   |   |   |   |   |--- value: [177.00]\n",
      "|   |   |   |   |   |--- age >  0.08\n",
      "|   |   |   |   |   |   |--- value: [199.00]\n",
      "|   |   |   |--- s3 >  0.02\n",
      "|   |   |   |   |--- bp <= -0.04\n",
      "|   |   |   |   |   |--- s2 <= -0.02\n",
      "|   |   |   |   |   |   |--- s1 <= -0.03\n",
      "|   |   |   |   |   |   |   |--- s2 <= -0.10\n",
      "|   |   |   |   |   |   |   |   |--- value: [37.00]\n",
      "|   |   |   |   |   |   |   |--- s2 >  -0.10\n",
      "|   |   |   |   |   |   |   |   |--- s6 <= 0.02\n",
      "|   |   |   |   |   |   |   |   |   |--- bmi <= -0.07\n",
      "|   |   |   |   |   |   |   |   |   |   |--- s6 <= -0.03\n",
      "|   |   |   |   |   |   |   |   |   |   |   |--- truncated branch of depth 2\n",
      "|   |   |   |   |   |   |   |   |   |   |--- s6 >  -0.03\n",
      "|   |   |   |   |   |   |   |   |   |   |   |--- value: [85.00]\n",
      "|   |   |   |   |   |   |   |   |   |--- bmi >  -0.07\n",
      "|   |   |   |   |   |   |   |   |   |   |--- s3 <= 0.10\n",
      "|   |   |   |   |   |   |   |   |   |   |   |--- value: [59.00]\n",
      "|   |   |   |   |   |   |   |   |   |   |--- s3 >  0.10\n",
      "|   |   |   |   |   |   |   |   |   |   |   |--- value: [60.00]\n",
      "|   |   |   |   |   |   |   |   |--- s6 >  0.02\n",
      "|   |   |   |   |   |   |   |   |   |--- value: [93.00]\n",
      "|   |   |   |   |   |   |--- s1 >  -0.03\n",
      "|   |   |   |   |   |   |   |--- bp <= -0.09\n",
      "|   |   |   |   |   |   |   |   |--- value: [65.00]\n",
      "|   |   |   |   |   |   |   |--- bp >  -0.09\n",
      "|   |   |   |   |   |   |   |   |--- s6 <= -0.03\n",
      "|   |   |   |   |   |   |   |   |   |--- s1 <= -0.02\n",
      "|   |   |   |   |   |   |   |   |   |   |--- value: [48.00]\n",
      "|   |   |   |   |   |   |   |   |   |--- s1 >  -0.02\n",
      "|   |   |   |   |   |   |   |   |   |   |--- value: [51.00]\n",
      "|   |   |   |   |   |   |   |   |--- s6 >  -0.03\n",
      "|   |   |   |   |   |   |   |   |   |--- s4 <= -0.06\n",
      "|   |   |   |   |   |   |   |   |   |   |--- value: [39.00]\n",
      "|   |   |   |   |   |   |   |   |   |--- s4 >  -0.06\n",
      "|   |   |   |   |   |   |   |   |   |   |--- value: [42.00]\n",
      "|   |   |   |   |   |--- s2 >  -0.02\n",
      "|   |   |   |   |   |   |--- s1 <= 0.04\n",
      "|   |   |   |   |   |   |   |--- s4 <= -0.06\n",
      "|   |   |   |   |   |   |   |   |--- value: [92.00]\n",
      "|   |   |   |   |   |   |   |--- s4 >  -0.06\n",
      "|   |   |   |   |   |   |   |   |--- s1 <= 0.01\n",
      "|   |   |   |   |   |   |   |   |   |--- value: [96.00]\n",
      "|   |   |   |   |   |   |   |   |--- s1 >  0.01\n",
      "|   |   |   |   |   |   |   |   |   |--- value: [97.00]\n",
      "|   |   |   |   |   |   |--- s1 >  0.04\n",
      "|   |   |   |   |   |   |   |--- bp <= -0.07\n",
      "|   |   |   |   |   |   |   |   |--- value: [57.00]\n",
      "|   |   |   |   |   |   |   |--- bp >  -0.07\n",
      "|   |   |   |   |   |   |   |   |--- value: [64.00]\n",
      "|   |   |   |   |--- bp >  -0.04\n",
      "|   |   |   |   |   |--- sex <= 0.00\n",
      "|   |   |   |   |   |   |--- age <= 0.04\n",
      "|   |   |   |   |   |   |   |--- s2 <= 0.01\n",
      "|   |   |   |   |   |   |   |   |--- s3 <= 0.05\n",
      "|   |   |   |   |   |   |   |   |   |--- bp <= 0.01\n",
      "|   |   |   |   |   |   |   |   |   |   |--- age <= 0.01\n",
      "|   |   |   |   |   |   |   |   |   |   |   |--- truncated branch of depth 7\n",
      "|   |   |   |   |   |   |   |   |   |   |--- age >  0.01\n",
      "|   |   |   |   |   |   |   |   |   |   |   |--- value: [179.00]\n",
      "|   |   |   |   |   |   |   |   |   |--- bp >  0.01\n",
      "|   |   |   |   |   |   |   |   |   |   |--- value: [40.00]\n",
      "|   |   |   |   |   |   |   |   |--- s3 >  0.05\n",
      "|   |   |   |   |   |   |   |   |   |--- bmi <= -0.05\n",
      "|   |   |   |   |   |   |   |   |   |   |--- bmi <= -0.06\n",
      "|   |   |   |   |   |   |   |   |   |   |   |--- truncated branch of depth 2\n",
      "|   |   |   |   |   |   |   |   |   |   |--- bmi >  -0.06\n",
      "|   |   |   |   |   |   |   |   |   |   |   |--- truncated branch of depth 2\n",
      "|   |   |   |   |   |   |   |   |   |--- bmi >  -0.05\n",
      "|   |   |   |   |   |   |   |   |   |   |--- s6 <= -0.01\n",
      "|   |   |   |   |   |   |   |   |   |   |   |--- truncated branch of depth 6\n",
      "|   |   |   |   |   |   |   |   |   |   |--- s6 >  -0.01\n",
      "|   |   |   |   |   |   |   |   |   |   |   |--- truncated branch of depth 4\n",
      "|   |   |   |   |   |   |   |--- s2 >  0.01\n",
      "|   |   |   |   |   |   |   |   |--- s1 <= 0.04\n",
      "|   |   |   |   |   |   |   |   |   |--- age <= -0.02\n",
      "|   |   |   |   |   |   |   |   |   |   |--- s1 <= 0.04\n",
      "|   |   |   |   |   |   |   |   |   |   |   |--- truncated branch of depth 2\n",
      "|   |   |   |   |   |   |   |   |   |   |--- s1 >  0.04\n",
      "|   |   |   |   |   |   |   |   |   |   |   |--- value: [59.00]\n",
      "|   |   |   |   |   |   |   |   |   |--- age >  -0.02\n",
      "|   |   |   |   |   |   |   |   |   |   |--- age <= 0.02\n",
      "|   |   |   |   |   |   |   |   |   |   |   |--- truncated branch of depth 2\n",
      "|   |   |   |   |   |   |   |   |   |   |--- age >  0.02\n",
      "|   |   |   |   |   |   |   |   |   |   |   |--- value: [59.00]\n",
      "|   |   |   |   |   |   |   |   |--- s1 >  0.04\n",
      "|   |   |   |   |   |   |   |   |   |--- bp <= -0.03\n",
      "|   |   |   |   |   |   |   |   |   |   |--- value: [72.00]\n",
      "|   |   |   |   |   |   |   |   |   |--- bp >  -0.03\n",
      "|   |   |   |   |   |   |   |   |   |   |--- value: [94.00]\n",
      "|   |   |   |   |   |   |--- age >  0.04\n",
      "|   |   |   |   |   |   |   |--- s6 <= 0.02\n",
      "|   |   |   |   |   |   |   |   |--- s4 <= -0.06\n",
      "|   |   |   |   |   |   |   |   |   |--- value: [103.00]\n",
      "|   |   |   |   |   |   |   |   |--- s4 >  -0.06\n",
      "|   |   |   |   |   |   |   |   |   |--- value: [89.00]\n",
      "|   |   |   |   |   |   |   |--- s6 >  0.02\n",
      "|   |   |   |   |   |   |   |   |--- s1 <= 0.00\n",
      "|   |   |   |   |   |   |   |   |   |--- value: [182.00]\n",
      "|   |   |   |   |   |   |   |   |--- s1 >  0.00\n",
      "|   |   |   |   |   |   |   |   |   |--- value: [158.00]\n",
      "|   |   |   |   |   |--- sex >  0.00\n",
      "|   |   |   |   |   |   |--- age <= 0.01\n",
      "|   |   |   |   |   |   |   |--- s1 <= -0.01\n",
      "|   |   |   |   |   |   |   |   |--- s6 <= 0.02\n",
      "|   |   |   |   |   |   |   |   |   |--- value: [45.00]\n",
      "|   |   |   |   |   |   |   |   |--- s6 >  0.02\n",
      "|   |   |   |   |   |   |   |   |   |--- value: [39.00]\n",
      "|   |   |   |   |   |   |   |--- s1 >  -0.01\n",
      "|   |   |   |   |   |   |   |   |--- bp <= -0.00\n",
      "|   |   |   |   |   |   |   |   |   |--- value: [53.00]\n",
      "|   |   |   |   |   |   |   |   |--- bp >  -0.00\n",
      "|   |   |   |   |   |   |   |   |   |--- bmi <= -0.04\n",
      "|   |   |   |   |   |   |   |   |   |   |--- value: [63.00]\n",
      "|   |   |   |   |   |   |   |   |   |--- bmi >  -0.04\n",
      "|   |   |   |   |   |   |   |   |   |   |--- value: [65.00]\n",
      "|   |   |   |   |   |   |--- age >  0.01\n",
      "|   |   |   |   |   |   |   |--- s6 <= 0.01\n",
      "|   |   |   |   |   |   |   |   |--- age <= 0.04\n",
      "|   |   |   |   |   |   |   |   |   |--- value: [47.00]\n",
      "|   |   |   |   |   |   |   |   |--- age >  0.04\n",
      "|   |   |   |   |   |   |   |   |   |--- s6 <= -0.01\n",
      "|   |   |   |   |   |   |   |   |   |   |--- s4 <= -0.02\n",
      "|   |   |   |   |   |   |   |   |   |   |   |--- value: [91.00]\n",
      "|   |   |   |   |   |   |   |   |   |   |--- s4 >  -0.02\n",
      "|   |   |   |   |   |   |   |   |   |   |   |--- value: [80.00]\n",
      "|   |   |   |   |   |   |   |   |   |--- s6 >  -0.01\n",
      "|   |   |   |   |   |   |   |   |   |   |--- s3 <= 0.03\n",
      "|   |   |   |   |   |   |   |   |   |   |   |--- value: [63.00]\n",
      "|   |   |   |   |   |   |   |   |   |   |--- s3 >  0.03\n",
      "|   |   |   |   |   |   |   |   |   |   |   |--- value: [66.00]\n",
      "|   |   |   |   |   |   |   |--- s6 >  0.01\n",
      "|   |   |   |   |   |   |   |   |--- s6 <= 0.01\n",
      "|   |   |   |   |   |   |   |   |   |--- value: [108.00]\n",
      "|   |   |   |   |   |   |   |   |--- s6 >  0.01\n",
      "|   |   |   |   |   |   |   |   |   |--- s2 <= -0.02\n",
      "|   |   |   |   |   |   |   |   |   |   |--- value: [104.00]\n",
      "|   |   |   |   |   |   |   |   |   |--- s2 >  -0.02\n",
      "|   |   |   |   |   |   |   |   |   |   |--- value: [102.00]\n",
      "|   |   |--- s2 >  0.11\n",
      "|   |   |   |--- value: [253.00]\n",
      "|   |--- s5 >  -0.00\n",
      "|   |   |--- s6 <= 0.03\n",
      "|   |   |   |--- s6 <= -0.00\n",
      "|   |   |   |   |--- s6 <= -0.04\n",
      "|   |   |   |   |   |--- s2 <= -0.02\n",
      "|   |   |   |   |   |   |--- s4 <= -0.02\n",
      "|   |   |   |   |   |   |   |--- s3 <= 0.09\n",
      "|   |   |   |   |   |   |   |   |--- value: [140.00]\n",
      "|   |   |   |   |   |   |   |--- s3 >  0.09\n",
      "|   |   |   |   |   |   |   |   |--- value: [170.00]\n",
      "|   |   |   |   |   |   |--- s4 >  -0.02\n",
      "|   |   |   |   |   |   |   |--- age <= -0.03\n",
      "|   |   |   |   |   |   |   |   |--- value: [258.00]\n",
      "|   |   |   |   |   |   |   |--- age >  -0.03\n",
      "|   |   |   |   |   |   |   |   |--- value: [252.00]\n",
      "|   |   |   |   |   |--- s2 >  -0.02\n",
      "|   |   |   |   |   |   |--- s5 <= 0.03\n",
      "|   |   |   |   |   |   |   |--- s2 <= 0.03\n",
      "|   |   |   |   |   |   |   |   |--- age <= -0.03\n",
      "|   |   |   |   |   |   |   |   |   |--- value: [93.00]\n",
      "|   |   |   |   |   |   |   |   |--- age >  -0.03\n",
      "|   |   |   |   |   |   |   |   |   |--- s4 <= 0.03\n",
      "|   |   |   |   |   |   |   |   |   |   |--- s5 <= 0.02\n",
      "|   |   |   |   |   |   |   |   |   |   |   |--- value: [109.00]\n",
      "|   |   |   |   |   |   |   |   |   |   |--- s5 >  0.02\n",
      "|   |   |   |   |   |   |   |   |   |   |   |--- value: [110.00]\n",
      "|   |   |   |   |   |   |   |   |   |--- s4 >  0.03\n",
      "|   |   |   |   |   |   |   |   |   |   |--- value: [124.00]\n",
      "|   |   |   |   |   |   |   |--- s2 >  0.03\n",
      "|   |   |   |   |   |   |   |   |--- s2 <= 0.08\n",
      "|   |   |   |   |   |   |   |   |   |--- s1 <= 0.03\n",
      "|   |   |   |   |   |   |   |   |   |   |--- value: [83.00]\n",
      "|   |   |   |   |   |   |   |   |   |--- s1 >  0.03\n",
      "|   |   |   |   |   |   |   |   |   |   |--- value: [91.00]\n",
      "|   |   |   |   |   |   |   |   |--- s2 >  0.08\n",
      "|   |   |   |   |   |   |   |   |   |--- value: [69.00]\n",
      "|   |   |   |   |   |   |--- s5 >  0.03\n",
      "|   |   |   |   |   |   |   |--- s2 <= 0.06\n",
      "|   |   |   |   |   |   |   |   |--- age <= -0.00\n",
      "|   |   |   |   |   |   |   |   |   |--- value: [126.00]\n",
      "|   |   |   |   |   |   |   |   |--- age >  -0.00\n",
      "|   |   |   |   |   |   |   |   |   |--- value: [134.00]\n",
      "|   |   |   |   |   |   |   |--- s2 >  0.06\n",
      "|   |   |   |   |   |   |   |   |--- value: [171.00]\n",
      "|   |   |   |   |--- s6 >  -0.04\n",
      "|   |   |   |   |   |--- bp <= -0.06\n",
      "|   |   |   |   |   |   |--- s3 <= -0.02\n",
      "|   |   |   |   |   |   |   |--- value: [162.00]\n",
      "|   |   |   |   |   |   |--- s3 >  -0.02\n",
      "|   |   |   |   |   |   |   |--- value: [88.00]\n",
      "|   |   |   |   |   |--- bp >  -0.06\n",
      "|   |   |   |   |   |   |--- s6 <= -0.01\n",
      "|   |   |   |   |   |   |   |--- s3 <= -0.07\n",
      "|   |   |   |   |   |   |   |   |--- bp <= 0.02\n",
      "|   |   |   |   |   |   |   |   |   |--- value: [233.00]\n",
      "|   |   |   |   |   |   |   |   |--- bp >  0.02\n",
      "|   |   |   |   |   |   |   |   |   |--- value: [257.00]\n",
      "|   |   |   |   |   |   |   |--- s3 >  -0.07\n",
      "|   |   |   |   |   |   |   |   |--- s3 <= -0.06\n",
      "|   |   |   |   |   |   |   |   |   |--- value: [101.00]\n",
      "|   |   |   |   |   |   |   |   |--- s3 >  -0.06\n",
      "|   |   |   |   |   |   |   |   |   |--- s6 <= -0.01\n",
      "|   |   |   |   |   |   |   |   |   |   |--- s2 <= -0.01\n",
      "|   |   |   |   |   |   |   |   |   |   |   |--- truncated branch of depth 2\n",
      "|   |   |   |   |   |   |   |   |   |   |--- s2 >  -0.01\n",
      "|   |   |   |   |   |   |   |   |   |   |   |--- truncated branch of depth 3\n",
      "|   |   |   |   |   |   |   |   |   |--- s6 >  -0.01\n",
      "|   |   |   |   |   |   |   |   |   |   |--- s1 <= -0.03\n",
      "|   |   |   |   |   |   |   |   |   |   |   |--- value: [178.00]\n",
      "|   |   |   |   |   |   |   |   |   |   |--- s1 >  -0.03\n",
      "|   |   |   |   |   |   |   |   |   |   |   |--- truncated branch of depth 2\n",
      "|   |   |   |   |   |   |--- s6 >  -0.01\n",
      "|   |   |   |   |   |   |   |--- value: [292.00]\n",
      "|   |   |   |--- s6 >  -0.00\n",
      "|   |   |   |   |--- s2 <= -0.04\n",
      "|   |   |   |   |   |--- age <= -0.05\n",
      "|   |   |   |   |   |   |--- value: [86.00]\n",
      "|   |   |   |   |   |--- age >  -0.05\n",
      "|   |   |   |   |   |   |--- bp <= 0.02\n",
      "|   |   |   |   |   |   |   |--- s2 <= -0.05\n",
      "|   |   |   |   |   |   |   |   |--- value: [198.00]\n",
      "|   |   |   |   |   |   |   |--- s2 >  -0.05\n",
      "|   |   |   |   |   |   |   |   |--- value: [200.00]\n",
      "|   |   |   |   |   |   |--- bp >  0.02\n",
      "|   |   |   |   |   |   |   |--- value: [252.00]\n",
      "|   |   |   |   |--- s2 >  -0.04\n",
      "|   |   |   |   |   |--- bp <= 0.09\n",
      "|   |   |   |   |   |   |--- s4 <= 0.05\n",
      "|   |   |   |   |   |   |   |--- s5 <= -0.00\n",
      "|   |   |   |   |   |   |   |   |--- value: [153.00]\n",
      "|   |   |   |   |   |   |   |--- s5 >  -0.00\n",
      "|   |   |   |   |   |   |   |   |--- age <= 0.04\n",
      "|   |   |   |   |   |   |   |   |   |--- s6 <= 0.01\n",
      "|   |   |   |   |   |   |   |   |   |   |--- age <= -0.01\n",
      "|   |   |   |   |   |   |   |   |   |   |   |--- truncated branch of depth 3\n",
      "|   |   |   |   |   |   |   |   |   |   |--- age >  -0.01\n",
      "|   |   |   |   |   |   |   |   |   |   |   |--- truncated branch of depth 2\n",
      "|   |   |   |   |   |   |   |   |   |--- s6 >  0.01\n",
      "|   |   |   |   |   |   |   |   |   |   |--- s1 <= -0.01\n",
      "|   |   |   |   |   |   |   |   |   |   |   |--- truncated branch of depth 2\n",
      "|   |   |   |   |   |   |   |   |   |   |--- s1 >  -0.01\n",
      "|   |   |   |   |   |   |   |   |   |   |   |--- truncated branch of depth 3\n",
      "|   |   |   |   |   |   |   |   |--- age >  0.04\n",
      "|   |   |   |   |   |   |   |   |   |--- s5 <= 0.03\n",
      "|   |   |   |   |   |   |   |   |   |   |--- bp <= 0.03\n",
      "|   |   |   |   |   |   |   |   |   |   |   |--- truncated branch of depth 3\n",
      "|   |   |   |   |   |   |   |   |   |   |--- bp >  0.03\n",
      "|   |   |   |   |   |   |   |   |   |   |   |--- value: [73.00]\n",
      "|   |   |   |   |   |   |   |   |   |--- s5 >  0.03\n",
      "|   |   |   |   |   |   |   |   |   |   |--- age <= 0.05\n",
      "|   |   |   |   |   |   |   |   |   |   |   |--- value: [131.00]\n",
      "|   |   |   |   |   |   |   |   |   |   |--- age >  0.05\n",
      "|   |   |   |   |   |   |   |   |   |   |   |--- value: [170.00]\n",
      "|   |   |   |   |   |   |--- s4 >  0.05\n",
      "|   |   |   |   |   |   |   |--- s3 <= -0.04\n",
      "|   |   |   |   |   |   |   |   |--- bp <= 0.05\n",
      "|   |   |   |   |   |   |   |   |   |--- bp <= 0.01\n",
      "|   |   |   |   |   |   |   |   |   |   |--- value: [150.00]\n",
      "|   |   |   |   |   |   |   |   |   |--- bp >  0.01\n",
      "|   |   |   |   |   |   |   |   |   |   |--- value: [152.00]\n",
      "|   |   |   |   |   |   |   |   |--- bp >  0.05\n",
      "|   |   |   |   |   |   |   |   |   |--- value: [163.00]\n",
      "|   |   |   |   |   |   |   |--- s3 >  -0.04\n",
      "|   |   |   |   |   |   |   |   |--- value: [116.00]\n",
      "|   |   |   |   |   |--- bp >  0.09\n",
      "|   |   |   |   |   |   |--- value: [217.00]\n",
      "|   |   |--- s6 >  0.03\n",
      "|   |   |   |--- s4 <= 0.06\n",
      "|   |   |   |   |--- bmi <= 0.01\n",
      "|   |   |   |   |   |--- s5 <= 0.01\n",
      "|   |   |   |   |   |   |--- s1 <= 0.01\n",
      "|   |   |   |   |   |   |   |--- value: [129.00]\n",
      "|   |   |   |   |   |   |--- s1 >  0.01\n",
      "|   |   |   |   |   |   |   |--- bmi <= -0.00\n",
      "|   |   |   |   |   |   |   |   |--- value: [100.00]\n",
      "|   |   |   |   |   |   |   |--- bmi >  -0.00\n",
      "|   |   |   |   |   |   |   |   |--- value: [85.00]\n",
      "|   |   |   |   |   |--- s5 >  0.01\n",
      "|   |   |   |   |   |   |--- s5 <= 0.03\n",
      "|   |   |   |   |   |   |   |--- s5 <= 0.02\n",
      "|   |   |   |   |   |   |   |   |--- value: [262.00]\n",
      "|   |   |   |   |   |   |   |--- s5 >  0.02\n",
      "|   |   |   |   |   |   |   |   |--- s3 <= -0.01\n",
      "|   |   |   |   |   |   |   |   |   |--- s1 <= 0.02\n",
      "|   |   |   |   |   |   |   |   |   |   |--- s5 <= 0.02\n",
      "|   |   |   |   |   |   |   |   |   |   |   |--- value: [185.00]\n",
      "|   |   |   |   |   |   |   |   |   |   |--- s5 >  0.02\n",
      "|   |   |   |   |   |   |   |   |   |   |   |--- value: [179.00]\n",
      "|   |   |   |   |   |   |   |   |   |--- s1 >  0.02\n",
      "|   |   |   |   |   |   |   |   |   |   |--- value: [172.00]\n",
      "|   |   |   |   |   |   |   |   |--- s3 >  -0.01\n",
      "|   |   |   |   |   |   |   |   |   |--- s6 <= 0.08\n",
      "|   |   |   |   |   |   |   |   |   |   |--- bmi <= -0.01\n",
      "|   |   |   |   |   |   |   |   |   |   |   |--- value: [190.00]\n",
      "|   |   |   |   |   |   |   |   |   |   |--- bmi >  -0.01\n",
      "|   |   |   |   |   |   |   |   |   |   |   |--- value: [191.00]\n",
      "|   |   |   |   |   |   |   |   |   |--- s6 >  0.08\n",
      "|   |   |   |   |   |   |   |   |   |   |--- value: [206.00]\n",
      "|   |   |   |   |   |   |--- s5 >  0.03\n",
      "|   |   |   |   |   |   |   |--- s3 <= -0.03\n",
      "|   |   |   |   |   |   |   |   |--- value: [120.00]\n",
      "|   |   |   |   |   |   |   |--- s3 >  -0.03\n",
      "|   |   |   |   |   |   |   |   |--- value: [123.00]\n",
      "|   |   |   |   |--- bmi >  0.01\n",
      "|   |   |   |   |   |--- bp <= 0.03\n",
      "|   |   |   |   |   |   |--- value: [277.00]\n",
      "|   |   |   |   |   |--- bp >  0.03\n",
      "|   |   |   |   |   |   |--- value: [311.00]\n",
      "|   |   |   |--- s4 >  0.06\n",
      "|   |   |   |   |--- s6 <= 0.07\n",
      "|   |   |   |   |   |--- age <= 0.07\n",
      "|   |   |   |   |   |   |--- value: [248.00]\n",
      "|   |   |   |   |   |--- age >  0.07\n",
      "|   |   |   |   |   |   |--- value: [241.00]\n",
      "|   |   |   |   |--- s6 >  0.07\n",
      "|   |   |   |   |   |--- bmi <= -0.01\n",
      "|   |   |   |   |   |   |--- value: [281.00]\n",
      "|   |   |   |   |   |--- bmi >  -0.01\n",
      "|   |   |   |   |   |   |--- value: [292.00]\n",
      "|--- bmi >  0.01\n",
      "|   |--- s5 <= 0.03\n",
      "|   |   |--- bmi <= 0.10\n",
      "|   |   |   |--- bp <= -0.03\n",
      "|   |   |   |   |--- bmi <= 0.01\n",
      "|   |   |   |   |   |--- s1 <= -0.04\n",
      "|   |   |   |   |   |   |--- value: [210.00]\n",
      "|   |   |   |   |   |--- s1 >  -0.04\n",
      "|   |   |   |   |   |   |--- value: [276.00]\n",
      "|   |   |   |   |--- bmi >  0.01\n",
      "|   |   |   |   |   |--- s6 <= -0.07\n",
      "|   |   |   |   |   |   |--- value: [201.00]\n",
      "|   |   |   |   |   |--- s6 >  -0.07\n",
      "|   |   |   |   |   |   |--- s2 <= 0.06\n",
      "|   |   |   |   |   |   |   |--- s1 <= -0.02\n",
      "|   |   |   |   |   |   |   |   |--- s2 <= -0.02\n",
      "|   |   |   |   |   |   |   |   |   |--- s2 <= -0.06\n",
      "|   |   |   |   |   |   |   |   |   |   |--- value: [136.00]\n",
      "|   |   |   |   |   |   |   |   |   |--- s2 >  -0.06\n",
      "|   |   |   |   |   |   |   |   |   |   |--- s2 <= -0.03\n",
      "|   |   |   |   |   |   |   |   |   |   |   |--- truncated branch of depth 2\n",
      "|   |   |   |   |   |   |   |   |   |   |--- s2 >  -0.03\n",
      "|   |   |   |   |   |   |   |   |   |   |   |--- value: [78.00]\n",
      "|   |   |   |   |   |   |   |   |--- s2 >  -0.02\n",
      "|   |   |   |   |   |   |   |   |   |--- s3 <= -0.05\n",
      "|   |   |   |   |   |   |   |   |   |   |--- value: [145.00]\n",
      "|   |   |   |   |   |   |   |   |   |--- s3 >  -0.05\n",
      "|   |   |   |   |   |   |   |   |   |   |--- s2 <= -0.01\n",
      "|   |   |   |   |   |   |   |   |   |   |   |--- value: [172.00]\n",
      "|   |   |   |   |   |   |   |   |   |   |--- s2 >  -0.01\n",
      "|   |   |   |   |   |   |   |   |   |   |   |--- value: [167.00]\n",
      "|   |   |   |   |   |   |   |--- s1 >  -0.02\n",
      "|   |   |   |   |   |   |   |   |--- s6 <= 0.01\n",
      "|   |   |   |   |   |   |   |   |   |--- s1 <= -0.01\n",
      "|   |   |   |   |   |   |   |   |   |   |--- s5 <= -0.07\n",
      "|   |   |   |   |   |   |   |   |   |   |   |--- value: [69.00]\n",
      "|   |   |   |   |   |   |   |   |   |   |--- s5 >  -0.07\n",
      "|   |   |   |   |   |   |   |   |   |   |   |--- value: [55.00]\n",
      "|   |   |   |   |   |   |   |   |   |--- s1 >  -0.01\n",
      "|   |   |   |   |   |   |   |   |   |   |--- s5 <= -0.02\n",
      "|   |   |   |   |   |   |   |   |   |   |   |--- value: [103.00]\n",
      "|   |   |   |   |   |   |   |   |   |   |--- s5 >  -0.02\n",
      "|   |   |   |   |   |   |   |   |   |   |   |--- truncated branch of depth 3\n",
      "|   |   |   |   |   |   |   |   |--- s6 >  0.01\n",
      "|   |   |   |   |   |   |   |   |   |--- age <= 0.03\n",
      "|   |   |   |   |   |   |   |   |   |   |--- value: [140.00]\n",
      "|   |   |   |   |   |   |   |   |   |--- age >  0.03\n",
      "|   |   |   |   |   |   |   |   |   |   |--- value: [110.00]\n",
      "|   |   |   |   |   |   |--- s2 >  0.06\n",
      "|   |   |   |   |   |   |   |--- value: [180.00]\n",
      "|   |   |   |--- bp >  -0.03\n",
      "|   |   |   |   |--- age <= -0.08\n",
      "|   |   |   |   |   |--- bp <= -0.02\n",
      "|   |   |   |   |   |   |--- value: [246.00]\n",
      "|   |   |   |   |   |--- bp >  -0.02\n",
      "|   |   |   |   |   |   |--- value: [302.00]\n",
      "|   |   |   |   |--- age >  -0.08\n",
      "|   |   |   |   |   |--- bp <= 0.09\n",
      "|   |   |   |   |   |   |--- s5 <= -0.03\n",
      "|   |   |   |   |   |   |   |--- age <= 0.01\n",
      "|   |   |   |   |   |   |   |   |--- s5 <= -0.06\n",
      "|   |   |   |   |   |   |   |   |   |--- s5 <= -0.07\n",
      "|   |   |   |   |   |   |   |   |   |   |--- value: [142.00]\n",
      "|   |   |   |   |   |   |   |   |   |--- s5 >  -0.07\n",
      "|   |   |   |   |   |   |   |   |   |   |--- value: [113.00]\n",
      "|   |   |   |   |   |   |   |   |--- s5 >  -0.06\n",
      "|   |   |   |   |   |   |   |   |   |--- s5 <= -0.03\n",
      "|   |   |   |   |   |   |   |   |   |   |--- s6 <= 0.00\n",
      "|   |   |   |   |   |   |   |   |   |   |   |--- truncated branch of depth 3\n",
      "|   |   |   |   |   |   |   |   |   |   |--- s6 >  0.00\n",
      "|   |   |   |   |   |   |   |   |   |   |   |--- truncated branch of depth 2\n",
      "|   |   |   |   |   |   |   |   |   |--- s5 >  -0.03\n",
      "|   |   |   |   |   |   |   |   |   |   |--- value: [129.00]\n",
      "|   |   |   |   |   |   |   |--- age >  0.01\n",
      "|   |   |   |   |   |   |   |   |--- age <= 0.03\n",
      "|   |   |   |   |   |   |   |   |   |--- value: [52.00]\n",
      "|   |   |   |   |   |   |   |   |--- age >  0.03\n",
      "|   |   |   |   |   |   |   |   |   |--- s1 <= -0.02\n",
      "|   |   |   |   |   |   |   |   |   |   |--- value: [118.00]\n",
      "|   |   |   |   |   |   |   |   |   |--- s1 >  -0.02\n",
      "|   |   |   |   |   |   |   |   |   |   |--- value: [141.00]\n",
      "|   |   |   |   |   |   |--- s5 >  -0.03\n",
      "|   |   |   |   |   |   |   |--- s1 <= 0.03\n",
      "|   |   |   |   |   |   |   |   |--- age <= -0.00\n",
      "|   |   |   |   |   |   |   |   |   |--- s2 <= 0.03\n",
      "|   |   |   |   |   |   |   |   |   |   |--- s5 <= -0.02\n",
      "|   |   |   |   |   |   |   |   |   |   |   |--- value: [184.00]\n",
      "|   |   |   |   |   |   |   |   |   |   |--- s5 >  -0.02\n",
      "|   |   |   |   |   |   |   |   |   |   |   |--- truncated branch of depth 4\n",
      "|   |   |   |   |   |   |   |   |   |--- s2 >  0.03\n",
      "|   |   |   |   |   |   |   |   |   |   |--- value: [279.00]\n",
      "|   |   |   |   |   |   |   |   |--- age >  -0.00\n",
      "|   |   |   |   |   |   |   |   |   |--- s1 <= -0.04\n",
      "|   |   |   |   |   |   |   |   |   |   |--- s5 <= 0.01\n",
      "|   |   |   |   |   |   |   |   |   |   |   |--- value: [141.00]\n",
      "|   |   |   |   |   |   |   |   |   |   |--- s5 >  0.01\n",
      "|   |   |   |   |   |   |   |   |   |   |   |--- value: [151.00]\n",
      "|   |   |   |   |   |   |   |   |   |--- s1 >  -0.04\n",
      "|   |   |   |   |   |   |   |   |   |   |--- s6 <= -0.00\n",
      "|   |   |   |   |   |   |   |   |   |   |   |--- truncated branch of depth 4\n",
      "|   |   |   |   |   |   |   |   |   |   |--- s6 >  -0.00\n",
      "|   |   |   |   |   |   |   |   |   |   |   |--- truncated branch of depth 7\n",
      "|   |   |   |   |   |   |   |--- s1 >  0.03\n",
      "|   |   |   |   |   |   |   |   |--- s6 <= -0.02\n",
      "|   |   |   |   |   |   |   |   |   |--- value: [198.00]\n",
      "|   |   |   |   |   |   |   |   |--- s6 >  -0.02\n",
      "|   |   |   |   |   |   |   |   |   |--- s6 <= 0.05\n",
      "|   |   |   |   |   |   |   |   |   |   |--- age <= 0.05\n",
      "|   |   |   |   |   |   |   |   |   |   |   |--- value: [122.00]\n",
      "|   |   |   |   |   |   |   |   |   |   |--- age >  0.05\n",
      "|   |   |   |   |   |   |   |   |   |   |   |--- value: [143.00]\n",
      "|   |   |   |   |   |   |   |   |   |--- s6 >  0.05\n",
      "|   |   |   |   |   |   |   |   |   |   |--- value: [84.00]\n",
      "|   |   |   |   |   |--- bp >  0.09\n",
      "|   |   |   |   |   |   |--- bmi <= 0.06\n",
      "|   |   |   |   |   |   |   |--- value: [280.00]\n",
      "|   |   |   |   |   |   |--- bmi >  0.06\n",
      "|   |   |   |   |   |   |   |--- value: [257.00]\n",
      "|   |   |--- bmi >  0.10\n",
      "|   |   |   |--- s1 <= -0.03\n",
      "|   |   |   |   |--- s6 <= 0.03\n",
      "|   |   |   |   |   |--- value: [341.00]\n",
      "|   |   |   |   |--- s6 >  0.03\n",
      "|   |   |   |   |   |--- value: [321.00]\n",
      "|   |   |   |--- s1 >  -0.03\n",
      "|   |   |   |   |--- bmi <= 0.12\n",
      "|   |   |   |   |   |--- value: [237.00]\n",
      "|   |   |   |   |--- bmi >  0.12\n",
      "|   |   |   |   |   |--- value: [259.00]\n",
      "|   |--- s5 >  0.03\n",
      "|   |   |--- bmi <= 0.07\n",
      "|   |   |   |--- age <= -0.07\n",
      "|   |   |   |   |--- bp <= -0.03\n",
      "|   |   |   |   |   |--- value: [68.00]\n",
      "|   |   |   |   |--- bp >  -0.03\n",
      "|   |   |   |   |   |--- value: [137.00]\n",
      "|   |   |   |--- age >  -0.07\n",
      "|   |   |   |   |--- bp <= 0.06\n",
      "|   |   |   |   |   |--- s6 <= 0.11\n",
      "|   |   |   |   |   |   |--- age <= -0.07\n",
      "|   |   |   |   |   |   |   |--- value: [310.00]\n",
      "|   |   |   |   |   |   |--- age >  -0.07\n",
      "|   |   |   |   |   |   |   |--- s1 <= -0.02\n",
      "|   |   |   |   |   |   |   |   |--- s1 <= -0.04\n",
      "|   |   |   |   |   |   |   |   |   |--- bp <= 0.04\n",
      "|   |   |   |   |   |   |   |   |   |   |--- value: [232.00]\n",
      "|   |   |   |   |   |   |   |   |   |--- bp >  0.04\n",
      "|   |   |   |   |   |   |   |   |   |   |--- value: [208.00]\n",
      "|   |   |   |   |   |   |   |   |--- s1 >  -0.04\n",
      "|   |   |   |   |   |   |   |   |   |--- bp <= 0.01\n",
      "|   |   |   |   |   |   |   |   |   |   |--- value: [265.00]\n",
      "|   |   |   |   |   |   |   |   |   |--- bp >  0.01\n",
      "|   |   |   |   |   |   |   |   |   |   |--- value: [281.00]\n",
      "|   |   |   |   |   |   |   |--- s1 >  -0.02\n",
      "|   |   |   |   |   |   |   |   |--- s2 <= -0.04\n",
      "|   |   |   |   |   |   |   |   |   |--- bp <= -0.00\n",
      "|   |   |   |   |   |   |   |   |   |   |--- value: [132.00]\n",
      "|   |   |   |   |   |   |   |   |   |--- bp >  -0.00\n",
      "|   |   |   |   |   |   |   |   |   |   |--- value: [99.00]\n",
      "|   |   |   |   |   |   |   |   |--- s2 >  -0.04\n",
      "|   |   |   |   |   |   |   |   |   |--- s5 <= 0.06\n",
      "|   |   |   |   |   |   |   |   |   |   |--- s6 <= -0.02\n",
      "|   |   |   |   |   |   |   |   |   |   |   |--- truncated branch of depth 4\n",
      "|   |   |   |   |   |   |   |   |   |   |--- s6 >  -0.02\n",
      "|   |   |   |   |   |   |   |   |   |   |   |--- truncated branch of depth 6\n",
      "|   |   |   |   |   |   |   |   |   |--- s5 >  0.06\n",
      "|   |   |   |   |   |   |   |   |   |   |--- s5 <= 0.07\n",
      "|   |   |   |   |   |   |   |   |   |   |   |--- truncated branch of depth 4\n",
      "|   |   |   |   |   |   |   |   |   |   |--- s5 >  0.07\n",
      "|   |   |   |   |   |   |   |   |   |   |   |--- truncated branch of depth 2\n",
      "|   |   |   |   |   |--- s6 >  0.11\n",
      "|   |   |   |   |   |   |--- s3 <= -0.07\n",
      "|   |   |   |   |   |   |   |--- value: [317.00]\n",
      "|   |   |   |   |   |   |--- s3 >  -0.07\n",
      "|   |   |   |   |   |   |   |--- value: [268.00]\n",
      "|   |   |   |   |--- bp >  0.06\n",
      "|   |   |   |   |   |--- age <= -0.00\n",
      "|   |   |   |   |   |   |--- s1 <= 0.01\n",
      "|   |   |   |   |   |   |   |--- value: [243.00]\n",
      "|   |   |   |   |   |   |--- s1 >  0.01\n",
      "|   |   |   |   |   |   |   |--- bp <= 0.08\n",
      "|   |   |   |   |   |   |   |   |--- value: [217.00]\n",
      "|   |   |   |   |   |   |   |--- bp >  0.08\n",
      "|   |   |   |   |   |   |   |   |--- value: [195.00]\n",
      "|   |   |   |   |   |--- age >  -0.00\n",
      "|   |   |   |   |   |   |--- age <= 0.07\n",
      "|   |   |   |   |   |   |   |--- s3 <= -0.02\n",
      "|   |   |   |   |   |   |   |   |--- bp <= 0.08\n",
      "|   |   |   |   |   |   |   |   |   |--- age <= 0.04\n",
      "|   |   |   |   |   |   |   |   |   |   |--- value: [297.00]\n",
      "|   |   |   |   |   |   |   |   |   |--- age >  0.04\n",
      "|   |   |   |   |   |   |   |   |   |   |--- value: [303.00]\n",
      "|   |   |   |   |   |   |   |   |--- bp >  0.08\n",
      "|   |   |   |   |   |   |   |   |   |--- value: [310.00]\n",
      "|   |   |   |   |   |   |   |--- s3 >  -0.02\n",
      "|   |   |   |   |   |   |   |   |--- s6 <= 0.02\n",
      "|   |   |   |   |   |   |   |   |   |--- value: [283.00]\n",
      "|   |   |   |   |   |   |   |   |--- s6 >  0.02\n",
      "|   |   |   |   |   |   |   |   |   |--- value: [270.00]\n",
      "|   |   |   |   |   |   |--- age >  0.07\n",
      "|   |   |   |   |   |   |   |--- s6 <= -0.04\n",
      "|   |   |   |   |   |   |   |   |--- value: [248.00]\n",
      "|   |   |   |   |   |   |   |--- s6 >  -0.04\n",
      "|   |   |   |   |   |   |   |   |--- s2 <= 0.03\n",
      "|   |   |   |   |   |   |   |   |   |--- value: [236.00]\n",
      "|   |   |   |   |   |   |   |   |--- s2 >  0.03\n",
      "|   |   |   |   |   |   |   |   |   |--- value: [230.00]\n",
      "|   |   |--- bmi >  0.07\n",
      "|   |   |   |--- s2 <= 0.03\n",
      "|   |   |   |   |--- s5 <= 0.04\n",
      "|   |   |   |   |   |--- s2 <= 0.02\n",
      "|   |   |   |   |   |   |--- bmi <= 0.12\n",
      "|   |   |   |   |   |   |   |--- value: [332.00]\n",
      "|   |   |   |   |   |   |--- bmi >  0.12\n",
      "|   |   |   |   |   |   |   |--- value: [346.00]\n",
      "|   |   |   |   |   |--- s2 >  0.02\n",
      "|   |   |   |   |   |   |--- value: [308.00]\n",
      "|   |   |   |   |--- s5 >  0.04\n",
      "|   |   |   |   |   |--- s6 <= 0.07\n",
      "|   |   |   |   |   |   |--- s5 <= 0.08\n",
      "|   |   |   |   |   |   |   |--- bmi <= 0.11\n",
      "|   |   |   |   |   |   |   |   |--- s6 <= 0.04\n",
      "|   |   |   |   |   |   |   |   |   |--- value: [270.00]\n",
      "|   |   |   |   |   |   |   |   |--- s6 >  0.04\n",
      "|   |   |   |   |   |   |   |   |   |--- value: [275.00]\n",
      "|   |   |   |   |   |   |   |--- bmi >  0.11\n",
      "|   |   |   |   |   |   |   |   |--- value: [281.00]\n",
      "|   |   |   |   |   |   |--- s5 >  0.08\n",
      "|   |   |   |   |   |   |   |--- value: [258.00]\n",
      "|   |   |   |   |   |--- s6 >  0.07\n",
      "|   |   |   |   |   |   |--- age <= 0.05\n",
      "|   |   |   |   |   |   |   |--- value: [295.00]\n",
      "|   |   |   |   |   |   |--- age >  0.05\n",
      "|   |   |   |   |   |   |   |--- value: [310.00]\n",
      "|   |   |   |--- s2 >  0.03\n",
      "|   |   |   |   |--- s3 <= -0.06\n",
      "|   |   |   |   |   |--- value: [306.00]\n",
      "|   |   |   |   |--- s3 >  -0.06\n",
      "|   |   |   |   |   |--- bp <= 0.06\n",
      "|   |   |   |   |   |   |--- s3 <= -0.04\n",
      "|   |   |   |   |   |   |   |--- value: [180.00]\n",
      "|   |   |   |   |   |   |--- s3 >  -0.04\n",
      "|   |   |   |   |   |   |   |--- s2 <= 0.11\n",
      "|   |   |   |   |   |   |   |   |--- s4 <= 0.02\n",
      "|   |   |   |   |   |   |   |   |   |--- value: [233.00]\n",
      "|   |   |   |   |   |   |   |   |--- s4 >  0.02\n",
      "|   |   |   |   |   |   |   |   |   |--- value: [242.00]\n",
      "|   |   |   |   |   |   |   |--- s2 >  0.11\n",
      "|   |   |   |   |   |   |   |   |--- value: [220.00]\n",
      "|   |   |   |   |   |--- bp >  0.06\n",
      "|   |   |   |   |   |   |--- bp <= 0.08\n",
      "|   |   |   |   |   |   |   |--- value: [264.00]\n",
      "|   |   |   |   |   |   |--- bp >  0.08\n",
      "|   |   |   |   |   |   |   |--- s1 <= 0.07\n",
      "|   |   |   |   |   |   |   |   |--- value: [243.00]\n",
      "|   |   |   |   |   |   |   |--- s1 >  0.07\n",
      "|   |   |   |   |   |   |   |   |--- value: [252.00]\n",
      "\n"
     ]
    }
   ],
   "source": [
    "print(dt.export_text(model, feature_names=fnames_diabetes))"
   ]
  },
  {
   "cell_type": "markdown",
   "metadata": {
    "slideshow": {
     "slide_type": "slide"
    }
   },
   "source": [
    "### Exercise\n",
    "\n",
    "1. Decision trees can be used for regression too, relying on the model *dt.DecisionTreeRegressor()*. Instantiate this regressor, apply it to *diabetes* data, and print the decision tree.\n",
    "2. The decision tree model has a parameter *max_depth* to control the depth of the learned tree. Run again the decision tree model using different values for this parameter."
   ]
  },
  {
   "cell_type": "markdown",
   "metadata": {
    "slideshow": {
     "slide_type": "slide"
    }
   },
   "source": [
    "### Neural Networks \n",
    "\n",
    "Like decision trees, neural networks can be used both for classification and regression. A neural network is loosely inspired by the architecture of the human brain, and it processes data through a set of layers.\n",
    "\n",
    "We will illustrate decision trees on the whole *iris* dataset."
   ]
  },
  {
   "cell_type": "markdown",
   "metadata": {},
   "source": [
    "First of all we need to use a little trick, and convert the label of the iris dataset into a **one-hot encoded** array.\n",
    "\n",
    "We will transform the labels in this way:\n",
    "- $0 \\rightarrow [1, 0, 0]$\n",
    "- $0 \\rightarrow [0, 1, 0]$\n",
    "- $0 \\rightarrow [0, 0, 1]$\n",
    "\n",
    "We use a *sklearn.preprocessing* function to do this. The code should now look to you very familiar."
   ]
  },
  {
   "cell_type": "code",
   "execution_count": 57,
   "metadata": {},
   "outputs": [],
   "source": [
    "onehot = preproc.OneHotEncoder(sparse=False)\n",
    "onehot.fit(np.expand_dims(ytr_iris,axis=1))\n",
    "ytr_iris_onehot = onehot.transform(np.expand_dims(ytr_iris,axis=1))\n",
    "yte_iris_onehot = onehot.transform(np.expand_dims(yte_iris,axis=1))"
   ]
  },
  {
   "cell_type": "markdown",
   "metadata": {},
   "source": [
    "Notice that the dimension of the label vector $y$ is now different."
   ]
  },
  {
   "cell_type": "code",
   "execution_count": 58,
   "metadata": {},
   "outputs": [
    {
     "data": {
      "text/plain": [
       "(120, 3)"
      ]
     },
     "execution_count": 58,
     "metadata": {},
     "output_type": "execute_result"
    }
   ],
   "source": [
    "ytr_iris_onehot.shape"
   ]
  },
  {
   "cell_type": "markdown",
   "metadata": {},
   "source": [
    "Let's check some labels."
   ]
  },
  {
   "cell_type": "code",
   "execution_count": 59,
   "metadata": {},
   "outputs": [
    {
     "data": {
      "text/plain": [
       "array([[0., 1., 0.],\n",
       "       [1., 0., 0.],\n",
       "       [0., 0., 1.],\n",
       "       [0., 1., 0.],\n",
       "       [0., 1., 0.],\n",
       "       [1., 0., 0.],\n",
       "       [0., 0., 1.],\n",
       "       [1., 0., 0.],\n",
       "       [0., 1., 0.],\n",
       "       [0., 1., 0.]])"
      ]
     },
     "execution_count": 59,
     "metadata": {},
     "output_type": "execute_result"
    }
   ],
   "source": [
    "ytr_iris_onehot[0:10,:]"
   ]
  },
  {
   "cell_type": "markdown",
   "metadata": {
    "slideshow": {
     "slide_type": "slide"
    }
   },
   "source": [
    "Now we can apply the NN model."
   ]
  },
  {
   "cell_type": "code",
   "execution_count": 60,
   "metadata": {},
   "outputs": [],
   "source": [
    "import sklearn.neural_network as nn\n",
    "\n",
    "model = nn.MLPClassifier()"
   ]
  },
  {
   "cell_type": "code",
   "execution_count": 61,
   "metadata": {},
   "outputs": [
    {
     "name": "stderr",
     "output_type": "stream",
     "text": [
      "/home/fmzennaro/.local/lib/python3.8/site-packages/sklearn/neural_network/_multilayer_perceptron.py:582: ConvergenceWarning: Stochastic Optimizer: Maximum iterations (200) reached and the optimization hasn't converged yet.\n",
      "  warnings.warn(\n"
     ]
    },
    {
     "data": {
      "text/plain": [
       "MLPClassifier()"
      ]
     },
     "execution_count": 61,
     "metadata": {},
     "output_type": "execute_result"
    }
   ],
   "source": [
    "model.fit(Xtr_iris,ytr_iris_onehot)"
   ]
  },
  {
   "cell_type": "code",
   "execution_count": 62,
   "metadata": {},
   "outputs": [],
   "source": [
    "yhat_nn1 = model.predict(Xte_iris)"
   ]
  },
  {
   "cell_type": "markdown",
   "metadata": {},
   "source": [
    "Now $\\hat{y}$ are the prediction of our model. We can compare them with the ground truth ($y_{te}$)"
   ]
  },
  {
   "cell_type": "code",
   "execution_count": 63,
   "metadata": {
    "scrolled": true
   },
   "outputs": [
    {
     "name": "stdout",
     "output_type": "stream",
     "text": [
      "[[0. 0. 1.]\n",
      " [0. 0. 1.]\n",
      " [1. 0. 0.]\n",
      " [0. 0. 1.]\n",
      " [1. 0. 0.]\n",
      " [0. 1. 0.]\n",
      " [1. 0. 0.]\n",
      " [0. 1. 0.]\n",
      " [0. 1. 0.]\n",
      " [1. 0. 0.]]\n",
      "[[0 0 1]\n",
      " [0 0 1]\n",
      " [1 0 0]\n",
      " [0 0 1]\n",
      " [1 0 0]\n",
      " [0 0 0]\n",
      " [1 0 0]\n",
      " [0 0 0]\n",
      " [0 0 0]\n",
      " [1 0 0]]\n"
     ]
    }
   ],
   "source": [
    "print(yte_iris_onehot[0:10])\n",
    "print(yhat_nn1[0:10])"
   ]
  },
  {
   "cell_type": "markdown",
   "metadata": {
    "slideshow": {
     "slide_type": "slide"
    }
   },
   "source": [
    "\n",
    "Neural networks are very powerful models, but unfortunately they are hard to interpret. We can not really *plot* what they are doing. For this reason, NN are often called **black-box models**.\n",
    "\n",
    "The power of NN stems from their flexibility. There are many **free parameters** you can set to customize your model. We will see some in the next example.\n"
   ]
  },
  {
   "cell_type": "markdown",
   "metadata": {
    "slideshow": {
     "slide_type": "slide"
    }
   },
   "source": [
    "Let us now apply the regression NN to the *diabetes* dataset, too."
   ]
  },
  {
   "cell_type": "code",
   "execution_count": 64,
   "metadata": {},
   "outputs": [
    {
     "data": {
      "text/plain": [
       "MLPRegressor(hidden_layer_sizes=(20, 20), max_iter=100000)"
      ]
     },
     "execution_count": 64,
     "metadata": {},
     "output_type": "execute_result"
    }
   ],
   "source": [
    "model = nn.MLPRegressor(hidden_layer_sizes=(20, 20),max_iter=10**5, activation='relu',learning_rate_init=0.001)\n",
    "model.fit(Xtr_diabetes,ytr_diabetes)"
   ]
  },
  {
   "cell_type": "markdown",
   "metadata": {},
   "source": [
    "Here we are setting up a NN made up by an input layer, two hidden layers of 20 neurons each, and an output layer. We use rectified linear unit for activation in the neurons. We train it for $10^5$ epochs, starting with a learning rate of $0.001$. "
   ]
  },
  {
   "cell_type": "code",
   "execution_count": 65,
   "metadata": {},
   "outputs": [],
   "source": [
    "yhat_nn2 = model.predict(Xte_diabetes)"
   ]
  },
  {
   "cell_type": "markdown",
   "metadata": {
    "slideshow": {
     "slide_type": "slide"
    }
   },
   "source": [
    "Neural networks have many free parameters you can set:\n",
    "- Number of hidden layers\n",
    "- Number of hidden nodes per layer\n",
    "- Number of learning iterations\n",
    "- Learning rate\n",
    "- Activation function of a neuron\n",
    "- ...\n",
    "\n",
    "Success in using NN requires experience in **tuning** this parameters.\n",
    "\n",
    "There are more advanced packages (*tensorfow*, *pytorch*, *keras*) to design and use neural networks."
   ]
  },
  {
   "cell_type": "markdown",
   "metadata": {
    "slideshow": {
     "slide_type": "slide"
    }
   },
   "source": [
    "### Exercise\n",
    "\n",
    "1. Can you guess why it is important to use a one-hot encoding of the labels?\n",
    "2. Consider again the classification problem in the *iris*. Try to instantiate an architecture with three hidden layer of size 64, 32, 16, and then fit your model. \n",
    "3. Check the (doc)[https://scikit-learn.org/stable/modules/generated/sklearn.neural_network.MLPClassifier.html#sklearn.neural_network.MLPClassifier] and find out more about some of the parameters of a neural network classifier."
   ]
  },
  {
   "cell_type": "markdown",
   "metadata": {},
   "source": [
    "### Summary\n",
    "\n",
    "- **Supervised Learning**:\n",
    "    - *Regression*:\n",
    "        - Linear Regression\n",
    "        - Decistion Tree\n",
    "        - Neural Network\n",
    "    - *Classification*:\n",
    "        - Logistic Regression\n",
    "        - Decistion Tree\n",
    "        - Neural Network\n",
    "        \n",
    "- **Unsupervised Learning**:\n",
    "    - *Clustering*:\n",
    "        - k-means"
   ]
  },
  {
   "cell_type": "markdown",
   "metadata": {
    "slideshow": {
     "slide_type": "slide"
    }
   },
   "source": [
    "## Evaluation\n",
    "\n",
    "So far, we have looked at the results of our models in a *visual/intuitive* way.\n",
    "\n",
    "Now we will consider *numerical* measures of **generalization**.\n",
    "\n",
    "As we want to evaluate generalization, we will now always work with the **test data**."
   ]
  },
  {
   "cell_type": "markdown",
   "metadata": {
    "slideshow": {
     "slide_type": "slide"
    }
   },
   "source": [
    "## Evaluating classification\n",
    "\n",
    "A simple measure to compute classification is to count (in percentage) the number of correct guesses and wrong guesses.\n",
    "\n",
    "As always *sklearn* provides the tool we need, in *sklearn.metrics* (see [doc](https://scikit-learn.org/stable/modules/classes.html#module-sklearn.metrics))\n"
   ]
  },
  {
   "cell_type": "code",
   "execution_count": 66,
   "metadata": {},
   "outputs": [],
   "source": [
    "import sklearn.metrics as metrics"
   ]
  },
  {
   "cell_type": "markdown",
   "metadata": {},
   "source": [
    "Let us now compute the classification accuracy of logistic regression, decision tree, and neural network."
   ]
  },
  {
   "cell_type": "code",
   "execution_count": 67,
   "metadata": {},
   "outputs": [
    {
     "data": {
      "text/plain": [
       "1.0"
      ]
     },
     "execution_count": 67,
     "metadata": {},
     "output_type": "execute_result"
    }
   ],
   "source": [
    "metrics.accuracy_score(yte_logregr,yhat_logregr)"
   ]
  },
  {
   "cell_type": "code",
   "execution_count": 68,
   "metadata": {},
   "outputs": [
    {
     "data": {
      "text/plain": [
       "0.9666666666666667"
      ]
     },
     "execution_count": 68,
     "metadata": {},
     "output_type": "execute_result"
    }
   ],
   "source": [
    "metrics.accuracy_score(yte_iris,yhat_dtree1)"
   ]
  },
  {
   "cell_type": "code",
   "execution_count": 69,
   "metadata": {},
   "outputs": [
    {
     "data": {
      "text/plain": [
       "0.6666666666666666"
      ]
     },
     "execution_count": 69,
     "metadata": {},
     "output_type": "execute_result"
    }
   ],
   "source": [
    "metrics.accuracy_score(yte_iris_onehot,yhat_nn1)"
   ]
  },
  {
   "cell_type": "markdown",
   "metadata": {
    "slideshow": {
     "slide_type": "slide"
    }
   },
   "source": [
    "### Exercise\n",
    "\n",
    "1. How do you interpret these results? Are the three values comparable?\n",
    "2. Do you see any problem in evaluating your model only in terms of accuracy? Think, for instance, of deploying your model in a medical setting for diagnosing potentially deadly diseases.\n",
    "3. Can you imagine other possible measures of generalization for your models?\n",
    "4. Can you instantiate neural networks with a different architecture and better accuracy?"
   ]
  },
  {
   "cell_type": "markdown",
   "metadata": {
    "slideshow": {
     "slide_type": "slide"
    }
   },
   "source": [
    "## Evaluating regression\n",
    "\n",
    "For regression we can not count anymore (because we have continuous outputs instead of discrete), but we can measure how far our predictions are from the truth."
   ]
  },
  {
   "cell_type": "markdown",
   "metadata": {},
   "source": [
    "Let us compute the classification accuracy of linear regression, decision tree, and neural network."
   ]
  },
  {
   "cell_type": "code",
   "execution_count": 70,
   "metadata": {},
   "outputs": [
    {
     "data": {
      "text/plain": [
       "3472.4481164111635"
      ]
     },
     "execution_count": 70,
     "metadata": {},
     "output_type": "execute_result"
    }
   ],
   "source": [
    "metrics.mean_squared_error(yte_linregr,yhat_linregr1)"
   ]
  },
  {
   "cell_type": "code",
   "execution_count": 71,
   "metadata": {},
   "outputs": [
    {
     "data": {
      "text/plain": [
       "2298.358456182747"
      ]
     },
     "execution_count": 71,
     "metadata": {},
     "output_type": "execute_result"
    }
   ],
   "source": [
    "metrics.mean_squared_error(yte_diabetes,yhat_linregr2)"
   ]
  },
  {
   "cell_type": "code",
   "execution_count": 72,
   "metadata": {},
   "outputs": [
    {
     "data": {
      "text/plain": [
       "6105.836956521739"
      ]
     },
     "execution_count": 72,
     "metadata": {},
     "output_type": "execute_result"
    }
   ],
   "source": [
    "metrics.mean_squared_error(yte_diabetes,yhat_dtree2)"
   ]
  },
  {
   "cell_type": "code",
   "execution_count": 73,
   "metadata": {},
   "outputs": [
    {
     "data": {
      "text/plain": [
       "2308.473501757075"
      ]
     },
     "execution_count": 73,
     "metadata": {},
     "output_type": "execute_result"
    }
   ],
   "source": [
    "metrics.mean_squared_error(yte_diabetes,yhat_nn2)"
   ]
  },
  {
   "cell_type": "markdown",
   "metadata": {
    "slideshow": {
     "slide_type": "slide"
    }
   },
   "source": [
    "### Exercise\n",
    "\n",
    "1. What can you infer from the comparison of the two results of linear regression? \n",
    "2. What can you infer by comparing the model that were trained and tested on the same *iris* data.\n",
    "3. Can you imagine other possible measures of generalization for your models?\n",
    "4. Can you instantiate neural networks with a different architecture and better MSE?"
   ]
  },
  {
   "cell_type": "markdown",
   "metadata": {
    "slideshow": {
     "slide_type": "slide"
    }
   },
   "source": [
    "# Learning More\n",
    "\n",
    "This class has illustrated how machine learning can be carried out using python.\n",
    "\n",
    "*python* provides a **powerful** and **fun** environment to do machine learning!\n",
    "\n",
    "*sklearn* can assist you in all the steps of learning."
   ]
  },
  {
   "cell_type": "markdown",
   "metadata": {
    "slideshow": {
     "slide_type": "slide"
    }
   },
   "source": [
    "\n",
    "Some **takeaway points** when you do machine learning in python:\n",
    "\n",
    "- Think about what you are doing\n",
    "- Think about what you want to do\n",
    "- Think about what model you can use\n",
    "- Read the documentation\n"
   ]
  },
  {
   "cell_type": "markdown",
   "metadata": {
    "slideshow": {
     "slide_type": "slide"
    }
   },
   "source": [
    "There is **much much more** to machine learning and python!!\n",
    "\n",
    "If you want to learn more about python, check:\n",
    "- [https://www.python.org/](https://www.python.org/)\n",
    "\n",
    "If you want to learn more about scikit-learn, check:\n",
    "- [https://scikit-learn.org/stable/index.html](https://scikit-learn.org/stable/index.html)\n",
    "\n",
    "If you want to learn more about machine learning in python, consider:\n",
    "- Sarah Guido, *Introduction to Machine Learning with Python*\n",
    "- [Introduction to Machine Learning with Python](https://github.com/amueller/introduction_to_ml_with_python)\n",
    "- [Dive into Machine Learning](https://github.com/hangtwenty/dive-into-machine-learning)\n",
    "- Sebastian Raschka, *Python Machine Learning*\n",
    "\n",
    "If you want to learn more about machine learning, consider:\n",
    "- Cristoper Bishop, *Pattern Recognition and Machine Learning*\n",
    "- Peter E. Hart, Richard O. Duda, David G. Stork, *Pattern Classification*"
   ]
  }
 ],
 "metadata": {
  "celltoolbar": "Slideshow",
  "kernelspec": {
   "display_name": "Python 3",
   "language": "python",
   "name": "python3"
  },
  "language_info": {
   "codemirror_mode": {
    "name": "ipython",
    "version": 3
   },
   "file_extension": ".py",
   "mimetype": "text/x-python",
   "name": "python",
   "nbconvert_exporter": "python",
   "pygments_lexer": "ipython3",
   "version": "3.8.5"
  },
  "toc": {
   "base_numbering": 1,
   "nav_menu": {},
   "number_sections": true,
   "sideBar": true,
   "skip_h1_title": false,
   "title_cell": "Table of Contents",
   "title_sidebar": "Contents",
   "toc_cell": false,
   "toc_position": {
    "height": "calc(100% - 180px)",
    "left": "10px",
    "top": "150px",
    "width": "348.665px"
   },
   "toc_section_display": true,
   "toc_window_display": false
  }
 },
 "nbformat": 4,
 "nbformat_minor": 4
}
